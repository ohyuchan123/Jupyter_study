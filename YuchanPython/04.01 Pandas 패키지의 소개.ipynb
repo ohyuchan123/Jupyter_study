{
 "cells": [
  {
   "cell_type": "markdown",
   "metadata": {
    "school_cell_uuid": "dc6b83ffa8d24ceab4fc4ffa0d5ad13c"
   },
   "source": [
    "# Pandas 패키지의 소개"
   ]
  },
  {
   "cell_type": "markdown",
   "metadata": {
    "school_cell_uuid": "e4f141832df248648077306c4715b7e1"
   },
   "source": [
    "Pandas 패키지는 데이터 분석을 할 때 가장 많이 쓰이는 패키지다. 대부분의 데이터는 시계열(series)이나 표(table)의 형태로 나타낼 수 있는데 Pandas 패키지에서는 이러한 표 데이터를 다루기 위한 **시리즈(``Series``) 클래스**와 **데이터프레임(``DataFrame``) 클래스**를 제공한다."
   ]
  },
  {
   "cell_type": "markdown",
   "metadata": {
    "school_cell_uuid": "a6ed8b46916e4ef1b2bf35d32f40067a"
   },
   "source": [
    "## 시리즈 클래스"
   ]
  },
  {
   "cell_type": "markdown",
   "metadata": {
    "school_cell_uuid": "3a712e9e0a034dbc8baa3d407d9d4387"
   },
   "source": [
    "시리즈 클래스는 NumPy에서 제공하는 1차원 배열과 비슷하지만 각 데이터의 의미를 표시하는 **인덱스(index)**를 붙일 수 있다. 데이터 자체는 **값(value)**라고 한다.\n",
    "\n",
    "> 시리즈 = 값(value) + 인덱스(index)"
   ]
  },
  {
   "cell_type": "markdown",
   "metadata": {
    "school_cell_uuid": "5abd1aa1c4d24870a06f9815af803680"
   },
   "source": [
    "### 시리즈 생성"
   ]
  },
  {
   "cell_type": "markdown",
   "metadata": {
    "school_cell_uuid": "6de67d6baff546469bb6d37faff21ee6"
   },
   "source": [
    "데이터를 리스트나 1차원 배열 형식으로 ``Series`` 클래스 생성자에 넣어주면 시리즈 클래스 객체를 만들 수 있다. 인덱스의 길이는 데이터의 길이와 같아야 한다. 다음 예에서 이 \"서울\", \"부산\" 등의 문자열이 인덱스의 값이다. 인덱스의 값을 **인덱스 라벨(label)**이라고도 한다. 인덱스 라벨은 문자열 뿐 아니라 날짜, 시간, 정수 등도 가능하다.\n",
    "\n",
    "다음 예제는 각 도시의 2015년 인구 데이터를 시리즈로 만든 것이다."
   ]
  },
  {
   "cell_type": "code",
   "execution_count": null,
   "metadata": {
    "school_cell_uuid": "9fa08e75d4e14cb098b1d380642cb058"
   },
   "outputs": [],
   "source": [
    "       "
   ]
  },
  {
   "cell_type": "code",
   "execution_count": null,
   "metadata": {
    "school_cell_uuid": "9fa08e75d4e14cb098b1d380642cb058"
   },
   "outputs": [],
   "source": []
  },
  {
   "cell_type": "code",
   "execution_count": null,
   "metadata": {},
   "outputs": [],
   "source": [
    "### dimension"
   ]
  },
  {
   "cell_type": "code",
   "execution_count": null,
   "metadata": {},
   "outputs": [],
   "source": [
    "### shape"
   ]
  },
  {
   "cell_type": "markdown",
   "metadata": {
    "school_cell_uuid": "3008b812f3204c9eb6a01f4668108607"
   },
   "source": [
    "만약 인덱스를 지정하지 않고 시리즈를 만들면 시리즈의 인덱스는 0부터 시작하는 정수값이 된다."
   ]
  },
  {
   "cell_type": "code",
   "execution_count": null,
   "metadata": {},
   "outputs": [],
   "source": []
  },
  {
   "cell_type": "code",
   "execution_count": null,
   "metadata": {
    "school_cell_uuid": "0c9f9f59dabb49b5a18eb5bd386ddf1b"
   },
   "outputs": [],
   "source": []
  },
  {
   "cell_type": "markdown",
   "metadata": {
    "school_cell_uuid": "d6b2f6b5c86e4f9a845615312d18996a"
   },
   "source": [
    "시리즈의 인덱스는 ``index`` 속성으로 접근할 수 있다. 시리즈의 값은 1차원 배열이며 ``values`` 속성으로 접근할 수 있다."
   ]
  },
  {
   "cell_type": "code",
   "execution_count": null,
   "metadata": {
    "school_cell_uuid": "1403d31d9a7240b88e953ecac8fd2d7d"
   },
   "outputs": [],
   "source": []
  },
  {
   "cell_type": "code",
   "execution_count": null,
   "metadata": {},
   "outputs": [],
   "source": []
  },
  {
   "cell_type": "code",
   "execution_count": null,
   "metadata": {
    "school_cell_uuid": "4a2a95c6b7c941f3ac29e083c583f1d5"
   },
   "outputs": [],
   "source": []
  },
  {
   "cell_type": "code",
   "execution_count": null,
   "metadata": {},
   "outputs": [],
   "source": []
  },
  {
   "cell_type": "markdown",
   "metadata": {
    "school_cell_uuid": "f820fac1fbb34477b7ef9e8523318fa6"
   },
   "source": [
    "`name` 속성을 이용하여  시리즈 데이터에 이름을 붙일 수 있다. `index.name` 속성으로 시리즈의 인덱스에도 이름을 붙일 수 있다. "
   ]
  },
  {
   "cell_type": "code",
   "execution_count": null,
   "metadata": {
    "school_cell_uuid": "c57a4327b374492db5d8638f1cca2d7d"
   },
   "outputs": [],
   "source": []
  },
  {
   "cell_type": "markdown",
   "metadata": {
    "school_cell_uuid": "9bbe04e711054f68ae0b4acc73f60069"
   },
   "source": [
    "### 시리즈 연산"
   ]
  },
  {
   "cell_type": "markdown",
   "metadata": {
    "school_cell_uuid": "fc0d49204c084ea3a7b16dc8d7fed7de"
   },
   "source": [
    "NumPy 배열처럼 시리즈도 **벡터화 연산**을 할 수 있다. 다만 연산은 **시리즈의 값에만 적용**되며 인덱스 값은 변하지 않는다. 예를 들어 인구 숫자를 백만 단위로 만들기 위해 시리즈 객체를 1,000,000 으로 나누어도 인덱스 라벨에는 영향을 미치지 않는 것을 볼 수 있다."
   ]
  },
  {
   "cell_type": "code",
   "execution_count": null,
   "metadata": {
    "school_cell_uuid": "01523227d18d444c82e92889ee66ba9b"
   },
   "outputs": [],
   "source": []
  },
  {
   "cell_type": "markdown",
   "metadata": {
    "school_cell_uuid": "0a460761c538494392521958340f3db2"
   },
   "source": [
    "### 시리즈 인덱싱"
   ]
  },
  {
   "cell_type": "markdown",
   "metadata": {
    "school_cell_uuid": "5d691e1912ab4b31bd374e393a3a76b4"
   },
   "source": [
    "시리즈는 NumPy 배열에서 가능한 인덱스 방법 이외에도 인덱스 라벨을 이용한 인덱싱도 할 수 있다. 배열 인덱싱이나 인덱스 라벨을 이용한 슬라이싱(slicing)도 가능하다. "
   ]
  },
  {
   "cell_type": "code",
   "execution_count": null,
   "metadata": {
    "school_cell_uuid": "b8ea4f47a1a74f9a9dcdd5766bafbe4a"
   },
   "outputs": [],
   "source": []
  },
  {
   "cell_type": "code",
   "execution_count": null,
   "metadata": {
    "school_cell_uuid": "738b84d048d24932a67a44b824730ed4"
   },
   "outputs": [],
   "source": []
  },
  {
   "cell_type": "markdown",
   "metadata": {
    "school_cell_uuid": "ea3b2ccf4429416387049789e64199b0"
   },
   "source": [
    "배열 인덱싱을 하면 자료의 순서를 바꾸거나 특정한 자료만 선택할 수 있다."
   ]
  },
  {
   "cell_type": "code",
   "execution_count": null,
   "metadata": {
    "school_cell_uuid": "1a1244671264480aaa2441ccbd8393f8"
   },
   "outputs": [],
   "source": []
  },
  {
   "cell_type": "code",
   "execution_count": null,
   "metadata": {
    "school_cell_uuid": "2e443412204a4a908a484f8ccc556dc8"
   },
   "outputs": [],
   "source": []
  },
  {
   "cell_type": "code",
   "execution_count": null,
   "metadata": {
    "school_cell_uuid": "791016a6790f4c65b29b4bc189db6f2f"
   },
   "outputs": [],
   "source": []
  },
  {
   "cell_type": "code",
   "execution_count": null,
   "metadata": {},
   "outputs": [],
   "source": []
  },
  {
   "cell_type": "markdown",
   "metadata": {
    "school_cell_uuid": "a8b0a57bccbb4c7fae9c1c9af24cd8c0"
   },
   "source": [
    "**문자열 라벨을 이용한 슬라이싱**을 하는 경우에는 **콜론(:) 기호 뒤에 오는 인덱스에 해당하는 값도 결과에 포함**되므로 주의해야 한다."
   ]
  },
  {
   "cell_type": "code",
   "execution_count": null,
   "metadata": {
    "school_cell_uuid": "9b72912399f64946868ca7db285e7815"
   },
   "outputs": [],
   "source": []
  },
  {
   "cell_type": "code",
   "execution_count": null,
   "metadata": {
    "school_cell_uuid": "976705921b664f2aa13384fad2011b34"
   },
   "outputs": [],
   "source": []
  },
  {
   "cell_type": "markdown",
   "metadata": {
    "school_cell_uuid": "5d9774e7ae9e451bb0506abee40ea9d4"
   },
   "source": [
    "만약 **라벨 값이 영문 문자열인 경우**에는 마치 속성인것처럼 **점(.)을 이용하여 접근**할 수도 있다."
   ]
  },
  {
   "cell_type": "code",
   "execution_count": null,
   "metadata": {
    "school_cell_uuid": "b6cd36b562c9435781d5c850c2904c2f"
   },
   "outputs": [],
   "source": []
  },
  {
   "cell_type": "code",
   "execution_count": null,
   "metadata": {
    "school_cell_uuid": "70da807ffc714a0ca308351fa09f2a8d"
   },
   "outputs": [],
   "source": []
  },
  {
   "cell_type": "code",
   "execution_count": null,
   "metadata": {},
   "outputs": [],
   "source": []
  },
  {
   "cell_type": "code",
   "execution_count": null,
   "metadata": {
    "school_cell_uuid": "bceb889ef43d4ffd8505ef2da02cdada"
   },
   "outputs": [],
   "source": []
  },
  {
   "cell_type": "markdown",
   "metadata": {
    "school_cell_uuid": "bc306946bdc74b3094b17207a6582aac"
   },
   "source": [
    "###  시리즈와 딕셔너리 자료형"
   ]
  },
  {
   "cell_type": "markdown",
   "metadata": {
    "school_cell_uuid": "564dcaad40c541daa8b6fe4f51045184"
   },
   "source": [
    "시리즈 객체는 라벨 값에 의해 인덱싱이 가능하므로 실질적으로 라벨 값을 키(key)로 가지는 **딕셔너리 자료형과 같다**고 볼 수 있다. 따라서 딕셔너리 자료형에서 제공하는 **``in`` 연산도 가능**하고 **``items`` 메서드**를 사용하면 **``for`` 루프를 통해 각 원소의 키(key)와 값(value)을 접근**할 수도 있다."
   ]
  },
  {
   "cell_type": "code",
   "execution_count": null,
   "metadata": {
    "school_cell_uuid": "c6348495d2c74d54b31ffd303b96f16a"
   },
   "outputs": [],
   "source": []
  },
  {
   "cell_type": "code",
   "execution_count": null,
   "metadata": {
    "school_cell_uuid": "c9aafec8ff874ee1994aa4df0ea4eb90"
   },
   "outputs": [],
   "source": []
  },
  {
   "cell_type": "code",
   "execution_count": null,
   "metadata": {},
   "outputs": [],
   "source": []
  },
  {
   "cell_type": "code",
   "execution_count": null,
   "metadata": {
    "school_cell_uuid": "a739f2afa225410b98afdcc29fca8ebb"
   },
   "outputs": [],
   "source": []
  },
  {
   "cell_type": "code",
   "execution_count": null,
   "metadata": {},
   "outputs": [],
   "source": []
  },
  {
   "cell_type": "code",
   "execution_count": null,
   "metadata": {},
   "outputs": [],
   "source": []
  },
  {
   "cell_type": "markdown",
   "metadata": {
    "school_cell_uuid": "98c066a53d6c4cd1ba26e144e7187626"
   },
   "source": [
    "또 **딕셔너리 객체에서 시리즈**를 만들 수도 있다. 이번에는 2010년의 인구 자료를 `s2`라는 이름의 시리즈로 만들어 보자. 이 데이터에는 대구의 인구 자료는 없지만 대신 대전의 인구 자료가 포함되어 있다."
   ]
  },
  {
   "cell_type": "code",
   "execution_count": null,
   "metadata": {
    "school_cell_uuid": "691d7d5a387f43078681e61f3859d666"
   },
   "outputs": [],
   "source": [
    "## Dictionary를 pandas Series로"
   ]
  },
  {
   "cell_type": "code",
   "execution_count": null,
   "metadata": {},
   "outputs": [],
   "source": [
    "## Series의 이름 지정\n"
   ]
  },
  {
   "cell_type": "code",
   "execution_count": null,
   "metadata": {},
   "outputs": [],
   "source": [
    "# Series의 인덱스만  (판다스의 인덱스 타입)"
   ]
  },
  {
   "cell_type": "code",
   "execution_count": null,
   "metadata": {},
   "outputs": [],
   "source": [
    "# pandas의 인덱스 이름 지정"
   ]
  },
  {
   "cell_type": "code",
   "execution_count": null,
   "metadata": {},
   "outputs": [],
   "source": []
  },
  {
   "cell_type": "markdown",
   "metadata": {
    "school_cell_uuid": "1ceffd252c634b81a246c2e316a4294e"
   },
   "source": [
    "딕셔너리의 원소는 순서를 가지지 않으므로 시리즈의 데이터도 순서가 보장되지 않는다. 만약 **순서를 정하고 싶다면 인덱스를 리스트로 지정**해야 한다."
   ]
  },
  {
   "cell_type": "code",
   "execution_count": null,
   "metadata": {
    "school_cell_uuid": "f89abbbf147b44f9a59e8d5a40ae172c"
   },
   "outputs": [],
   "source": [
    "## Index로 순서 지정"
   ]
  },
  {
   "cell_type": "markdown",
   "metadata": {
    "school_cell_uuid": "dc8ea13ac9d64e36b8b0e1b8e81d1a66"
   },
   "source": [
    "### 인덱스 기반 연산"
   ]
  },
  {
   "cell_type": "markdown",
   "metadata": {
    "school_cell_uuid": "27256ea15a404ed586d35fbe1c83c31a"
   },
   "source": [
    "이번에는 **2015년도와 2010년의 인구 증가를 계산**해 보자. 두 개의 **시리즈의 차이**를 구하면 된다. 두 시리즈에 대해 연산을 하는 경우 **인덱스가 같은 데이터에 대해서만** 차이를 구한다."
   ]
  },
  {
   "cell_type": "code",
   "execution_count": null,
   "metadata": {
    "school_cell_uuid": "53f81342b44f4bb28b3ea0f8a4d1778d"
   },
   "outputs": [],
   "source": []
  },
  {
   "cell_type": "code",
   "execution_count": null,
   "metadata": {
    "school_cell_uuid": "953fbb01da8743ebaabe897eec3eef19"
   },
   "outputs": [],
   "source": []
  },
  {
   "cell_type": "markdown",
   "metadata": {
    "school_cell_uuid": "0699a244243e4d6394e82b0a9a1aa745"
   },
   "source": [
    "대구와 대전의 경우에는 **2010년 자료와 2015년 자료가 모두 존재하지 않기 때문에 계산이 불가능**하므로 **``NaN``(Not a Number)** 이라는 값을 가지게 된다. 또한 ``NaN`` 값이 ``float`` 자료형에서만 가능하므로 다른 계산 결과도 모두 ``float`` 자료형이 되었다는 점에 주의한다. **``NaN``이 아닌 값**을 구하려면 **``notnull`` 메서드**를 사용한다."
   ]
  },
  {
   "cell_type": "code",
   "execution_count": null,
   "metadata": {},
   "outputs": [],
   "source": []
  },
  {
   "cell_type": "code",
   "execution_count": null,
   "metadata": {
    "school_cell_uuid": "4f0860edcc90436497f469e0d7ec890a"
   },
   "outputs": [],
   "source": []
  },
  {
   "cell_type": "code",
   "execution_count": null,
   "metadata": {
    "school_cell_uuid": "a7104df98e104d00a64cc09b1044b876"
   },
   "outputs": [],
   "source": []
  },
  {
   "cell_type": "markdown",
   "metadata": {
    "school_cell_uuid": "8540d53b10dd49fabc85f284e6ab4352"
   },
   "source": [
    "마찬가지로 인구 증가율(%)은 다음과 같이 구할 수 있다."
   ]
  },
  {
   "cell_type": "code",
   "execution_count": null,
   "metadata": {},
   "outputs": [],
   "source": []
  },
  {
   "cell_type": "code",
   "execution_count": null,
   "metadata": {},
   "outputs": [],
   "source": []
  },
  {
   "cell_type": "code",
   "execution_count": null,
   "metadata": {
    "school_cell_uuid": "0df4457dc3174341a01887ce167b0009"
   },
   "outputs": [],
   "source": []
  },
  {
   "cell_type": "markdown",
   "metadata": {
    "school_cell_uuid": "3726aba0c5734c22a8ed620db33c3074"
   },
   "source": [
    "### 데이터의 갱신, 추가, 삭제"
   ]
  },
  {
   "cell_type": "markdown",
   "metadata": {
    "school_cell_uuid": "5bdb56ee5555453e84d5f9a7956b1cae"
   },
   "source": [
    "인덱싱을 이용하면 딕셔너리처럼 데이터를 갱신(update)하거나 추가(add)할 수 있다."
   ]
  },
  {
   "cell_type": "code",
   "execution_count": null,
   "metadata": {
    "school_cell_uuid": "225cd381ff2c4cfca1c4f0519ea257d5"
   },
   "outputs": [],
   "source": []
  },
  {
   "cell_type": "code",
   "execution_count": null,
   "metadata": {
    "school_cell_uuid": "e4f1b489a3a64d07ba32c9f38a4255dd"
   },
   "outputs": [],
   "source": []
  },
  {
   "cell_type": "markdown",
   "metadata": {
    "school_cell_uuid": "dd1d397fd51a4926b11f2a2048a7fea9"
   },
   "source": [
    "데이터를 삭제할 때도 딕셔너리처럼 ``del`` 명령을 사용한다."
   ]
  },
  {
   "cell_type": "code",
   "execution_count": null,
   "metadata": {
    "school_cell_uuid": "8bde53108bf44e1dbade9d5074fb488b"
   },
   "outputs": [],
   "source": []
  },
  {
   "cell_type": "markdown",
   "metadata": {
    "bootstrap": {
     "panel": {
      "class": "panel-default"
     }
    },
    "school_cell_uuid": "e37624aaec0540468047652aa8d31e40"
   },
   "source": [
    "#### 연습 문제 1\n",
    "\n",
    "1. 임의로 두 개의 시리즈 객체를 만든다. 모두 문자열 인덱스를 가져야 하며 두 시리즈에 공통적으로 포함되지 않는 라벨이 있어야 한다."
   ]
  },
  {
   "cell_type": "code",
   "execution_count": null,
   "metadata": {},
   "outputs": [],
   "source": []
  },
  {
   "cell_type": "markdown",
   "metadata": {
    "bootstrap": {
     "panel": {
      "class": "panel-default"
     }
    },
    "school_cell_uuid": "e37624aaec0540468047652aa8d31e40"
   },
   "source": [
    "2. 위에서 만든 두 시리즈 객체를 이용하여 사칙 연산을 한다."
   ]
  },
  {
   "cell_type": "code",
   "execution_count": null,
   "metadata": {},
   "outputs": [],
   "source": []
  },
  {
   "cell_type": "markdown",
   "metadata": {
    "school_cell_uuid": "79de6d0a0c8b499c8163397ada893f78"
   },
   "source": [
    "## 데이터프레임 클래스"
   ]
  },
  {
   "cell_type": "markdown",
   "metadata": {
    "school_cell_uuid": "fa06411e78094e32b6b07a3a6dfe34cb"
   },
   "source": [
    "시리즈가 1차원 벡터 데이터에 행방향 인덱스(row index)를 붙인 것이라면 **데이터프레임(Data-Frame)** 클래스는 **2차원 행렬 데이터에 인덱스를 붙인 것과 비슷**하다. 2차원이므로 각각의 행 데이터의 이름이 되는 **행방향 인덱스(row index)** 뿐 아니라 각각의 열 데이터의 이름이 되는 **열방향 인덱스(column index)** 도 붙일 수 있다."
   ]
  },
  {
   "cell_type": "markdown",
   "metadata": {
    "school_cell_uuid": "0107de19770349c7857370bad3bae07c"
   },
   "source": [
    "### 데이터프레임 생성"
   ]
  },
  {
   "cell_type": "markdown",
   "metadata": {
    "school_cell_uuid": "04584100e0fe4242953ab6fb75d56af9"
   },
   "source": [
    "데이터프레임을 만드는 방법은 다양하다. 가장 간단한 방법은 다음과 같다.\n",
    "\n",
    "1. 우선 하나의 열이 되는 데이터를 **리스트**나 **일차원 배열**을 준비한다. \n",
    "2. 이 각각의 **열에 대한 이름(라벨)을 키로 가지는 딕셔너리**를 만든다.\n",
    "3. 이 데이터를 ``DataFrame`` 클래스 생성자에 넣는다. 동시에 **열방향 인덱스는 ``columns`` 인수**로, **행방향 인덱스는 ``index`` 인수**로 지정한다."
   ]
  },
  {
   "cell_type": "code",
   "execution_count": null,
   "metadata": {
    "school_cell_uuid": "ad56dd6a97c849a6ba1df6cacaad4716"
   },
   "outputs": [],
   "source": [
    "data = {\n",
    "    \"2015\": [9904312, 3448737, 2890451, 2466052],\n",
    "    \"2010\": [9631482, 3393191, 2632035, 2431774],\n",
    "    \"2005\": [9762546, 3512547, 2517680, 2456016],\n",
    "    \"2000\": [9853972, 3655437, 2466338, 2473990],\n",
    "    \"지역\": [\"수도권\", \"경상권\", \"수도권\", \"경상권\"],\n",
    "    \"2010-2015 증가율\": [0.0283, 0.0163, 0.0982, 0.0141]\n",
    "}\n",
    "type(data)"
   ]
  },
  {
   "cell_type": "code",
   "execution_count": null,
   "metadata": {
    "school_cell_uuid": "ad56dd6a97c849a6ba1df6cacaad4716"
   },
   "outputs": [],
   "source": [
    "columns = [\"지역\", \"2015\", \"2010\", \"2005\", \"2000\", \"2010-2015 증가율\"]\n",
    "index = [\"서울\", \"부산\", \"인천\", \"대구\"]"
   ]
  },
  {
   "cell_type": "code",
   "execution_count": null,
   "metadata": {},
   "outputs": [],
   "source": []
  },
  {
   "cell_type": "markdown",
   "metadata": {
    "school_cell_uuid": "1df257b1de834ff58d4352f86071807e"
   },
   "source": [
    "앞에서 데이터프레임은 2차원 배열 데이터를 기반으로 한다고 했지만 사실은 **공통 인덱스를 가지는 열 시리즈(column series)를 딕셔너리로 묶어놓은 것**이라고 보는 것이 더 정확하다. 2차원 배열 데이터는 모든 원소가 같은 자료형을 가져야 하지만 데이터프레임은 **각 열(column)마다 자료형이 다를 수 있기 때문**이다. 위 예제에서도 지역과 인구와 증가율은 각각 문자열, 정수, 부동소수점 실수이다."
   ]
  },
  {
   "cell_type": "markdown",
   "metadata": {
    "school_cell_uuid": "a2d92affda1f4913af6fdd07ac3424aa"
   },
   "source": [
    "시리즈와 마찬가지로 **데이터만 접근하려면 ``values`` 속성**을 사용한다. 열방향 인덱스와 행방향 인덱스는 각각 ``columns``, ``index`` 속성으로 접근한다."
   ]
  },
  {
   "cell_type": "code",
   "execution_count": null,
   "metadata": {
    "school_cell_uuid": "304c384949634af288540e1a2c95337e"
   },
   "outputs": [],
   "source": [
    "### 값(value) 보기 "
   ]
  },
  {
   "cell_type": "code",
   "execution_count": null,
   "metadata": {},
   "outputs": [],
   "source": [
    "### 자료형"
   ]
  },
  {
   "cell_type": "code",
   "execution_count": null,
   "metadata": {
    "school_cell_uuid": "302fa44ffa464f4fa12fe5354b4af9f2"
   },
   "outputs": [],
   "source": [
    "## 컬럼 인덱스"
   ]
  },
  {
   "cell_type": "code",
   "execution_count": 2,
   "metadata": {
    "school_cell_uuid": "99de7f0a3b6d4dad8f5d6b3b9cfce153"
   },
   "outputs": [],
   "source": [
    "## 행 인덱스"
   ]
  },
  {
   "cell_type": "markdown",
   "metadata": {
    "school_cell_uuid": "c8d07e451acd4222befd8ae9d57f09c9"
   },
   "source": [
    "시리즈에서 처럼 열방향 인덱스와 행방향 인덱스에 이름을 붙이는 것도 가능하다."
   ]
  },
  {
   "cell_type": "code",
   "execution_count": null,
   "metadata": {
    "school_cell_uuid": "fe7f799f91754b3d89bdd25eeee35b1a"
   },
   "outputs": [],
   "source": [
    "# 행, 열 방향 인덱스 및 테이블의 Title(제목) 지정\n"
   ]
  },
  {
   "cell_type": "markdown",
   "metadata": {
    "bootstrap": {
     "panel": {
      "class": "panel-default"
     }
    },
    "school_cell_uuid": "1adc8742e99c42419d8ad2f539ef362c"
   },
   "source": [
    "#### 연습 문제 2\n",
    "\n",
    "다음 조건을 만족하는 임의의 데이터프레임을 하나 만든다.\n",
    "\n",
    "1. 열의 갯수와 행의 갯수가 각각 5개 이상이어야 한다.\n",
    "1. 열에는 정수, 문자열, 실수 자료형 데이터가 각각 1개 이상씩 포함되어 있어야 한다."
   ]
  },
  {
   "cell_type": "code",
   "execution_count": null,
   "metadata": {},
   "outputs": [],
   "source": []
  },
  {
   "cell_type": "code",
   "execution_count": null,
   "metadata": {},
   "outputs": [],
   "source": []
  },
  {
   "cell_type": "code",
   "execution_count": null,
   "metadata": {},
   "outputs": [],
   "source": []
  },
  {
   "cell_type": "code",
   "execution_count": null,
   "metadata": {},
   "outputs": [],
   "source": []
  },
  {
   "cell_type": "code",
   "execution_count": null,
   "metadata": {},
   "outputs": [],
   "source": []
  },
  {
   "cell_type": "markdown",
   "metadata": {},
   "source": [
    "---"
   ]
  },
  {
   "cell_type": "code",
   "execution_count": 3,
   "metadata": {},
   "outputs": [],
   "source": [
    "# 기본 데이터 \n",
    "data = {\n",
    "    \"과목코드\" : [1, 2, 3, 4, 5],\n",
    "    \"1차\": [80, 88, 75, 90, 80],\n",
    "    \"2차\": [40, 58, 70, 100, 99],\n",
    "    \"3차\": [82, 82, 72, 92, 88],\n",
    "    \"4차\": [70, 84, 75, 60, 70],\n",
    "}\n",
    "##columns = [\"과목\", \"2015\", \"2010\", \"2005\", \"2000\", \"2010-2015 증가율\"]\n",
    "columns = [\"1차\", \"2차\", \"3차\", \"4차\", \"과목코드\"]\n",
    "index = [\"국어\", \"영어\", \"수학\", \"딥러닝\", \"파이썬\"]"
   ]
  },
  {
   "cell_type": "code",
   "execution_count": 5,
   "metadata": {},
   "outputs": [
    {
     "ename": "NameError",
     "evalue": "name 'pd' is not defined",
     "output_type": "error",
     "traceback": [
      "\u001b[1;31m---------------------------------------------------------------------------\u001b[0m",
      "\u001b[1;31mNameError\u001b[0m                                 Traceback (most recent call last)",
      "\u001b[1;32m<ipython-input-5-59cb7b59a526>\u001b[0m in \u001b[0;36m<module>\u001b[1;34m\u001b[0m\n\u001b[0;32m      1\u001b[0m \u001b[1;31m## 데이터 프레임 만들기\u001b[0m\u001b[1;33m\u001b[0m\u001b[1;33m\u001b[0m\u001b[1;33m\u001b[0m\u001b[0m\n\u001b[1;32m----> 2\u001b[1;33m \u001b[0mdf3\u001b[0m\u001b[1;33m=\u001b[0m\u001b[0mpd\u001b[0m\u001b[1;33m.\u001b[0m\u001b[0mDataFrame\u001b[0m\u001b[1;33m(\u001b[0m\u001b[0mdat\u001b[0m\u001b[1;33m,\u001b[0m\u001b[0mindex\u001b[0m\u001b[1;33m=\u001b[0m\u001b[0mindex\u001b[0m\u001b[1;33m,\u001b[0m\u001b[0mcolums\u001b[0m\u001b[1;33m=\u001b[0m\u001b[0msolums\u001b[0m\u001b[1;33m)\u001b[0m\u001b[1;33m\u001b[0m\u001b[1;33m\u001b[0m\u001b[0m\n\u001b[0m\u001b[0;32m      3\u001b[0m \u001b[0mdf3\u001b[0m\u001b[1;33m\u001b[0m\u001b[1;33m\u001b[0m\u001b[0m\n",
      "\u001b[1;31mNameError\u001b[0m: name 'pd' is not defined"
     ]
    }
   ],
   "source": [
    "## 데이터 프레임 만들기\n",
    "df3=pd.DataFrame(dat,index=index,colums=solums)\n",
    "df3"
   ]
  },
  {
   "cell_type": "markdown",
   "metadata": {
    "school_cell_uuid": "fe47c0e2dea04ec3ae0564ff78e9c881"
   },
   "source": [
    "데이터프레임은 전치(transpose)를 포함하여 **NumPy 2차원 배열이 가지는 대부분의 속성이나 메서드를 지원**한다."
   ]
  },
  {
   "cell_type": "code",
   "execution_count": null,
   "metadata": {
    "school_cell_uuid": "a344bf84667e43618339bcaa9f5ab7b9"
   },
   "outputs": [],
   "source": [
    "df3.T"
   ]
  },
  {
   "cell_type": "markdown",
   "metadata": {
    "school_cell_uuid": "2a3a6d464e6b4433bd5174559fd19a5b"
   },
   "source": [
    "### 열 데이터의 갱신, 추가, 삭제"
   ]
  },
  {
   "cell_type": "markdown",
   "metadata": {
    "school_cell_uuid": "6fd687f1f7d34fd1a97eaba03409dfbd"
   },
   "source": [
    "데이터프레임은 **열 시리즈의 딕셔너리**로 볼 수 있으므로 **열 단위로 데이터를 갱신하거나 추가, 삭제할 수 있다**."
   ]
  },
  {
   "cell_type": "code",
   "execution_count": null,
   "metadata": {
    "school_cell_uuid": "118e7896d2a04b1991857b59411a7a7a"
   },
   "outputs": [],
   "source": []
  },
  {
   "cell_type": "code",
   "execution_count": null,
   "metadata": {},
   "outputs": [],
   "source": []
  },
  {
   "cell_type": "code",
   "execution_count": null,
   "metadata": {
    "school_cell_uuid": "f06e0eb3cc234b458e6005c5daeff851"
   },
   "outputs": [],
   "source": []
  },
  {
   "cell_type": "code",
   "execution_count": null,
   "metadata": {
    "school_cell_uuid": "53766b5a5edd4c24bd9f42a867bdc25c"
   },
   "outputs": [],
   "source": []
  },
  {
   "cell_type": "markdown",
   "metadata": {
    "school_cell_uuid": "054e8a8453344e1f82cddb291b8979ee"
   },
   "source": [
    "### 열 인덱싱"
   ]
  },
  {
   "cell_type": "markdown",
   "metadata": {
    "school_cell_uuid": "11f4d33758d349c996d2df220849bf65"
   },
   "source": [
    "데이터프레임은 열 시리즈의 딕셔너리와 비슷하다고 하였다. 따라서 데이터프레임을 인덱싱을 할 때도 **열 라벨(column label)을 키값으로 생각하여 인덱싱**을 할 수 있다. 인덱스로 **라벨 값을 하나만 넣으면 시리즈 객체가 반환**되고 **라벨의 배열 또는 리스트를 넣으면 부분적인 데이터프레임이 반환**된다. "
   ]
  },
  {
   "cell_type": "code",
   "execution_count": 5,
   "metadata": {
    "school_cell_uuid": "cd1711c77b124743b903a95f11aa36f9"
   },
   "outputs": [],
   "source": [
    "## 열방향 인덱싱"
   ]
  },
  {
   "cell_type": "code",
   "execution_count": 6,
   "metadata": {
    "school_cell_uuid": "1a466758ba714775aa408dcf8094d1f2"
   },
   "outputs": [],
   "source": [
    "## 열방향 다중 인덱싱 (라벨의 배열 또는 리스트)\n"
   ]
  },
  {
   "cell_type": "markdown",
   "metadata": {
    "school_cell_uuid": "a7e0e861ca524b049abf9f37305c9d1d"
   },
   "source": [
    "만약 **하나의 열만 빼내면서 데이터프레임 자료형을 유지**하고 싶다면 원소가 하나인 리스트를 써서 인덱싱하면 된다."
   ]
  },
  {
   "cell_type": "code",
   "execution_count": null,
   "metadata": {
    "school_cell_uuid": "98d4093da4bf47519e43e0e542bb81a7"
   },
   "outputs": [],
   "source": [
    "# 열방향 인덱싱하여... 데이터프레임으로...(shape=(4,1))"
   ]
  },
  {
   "cell_type": "code",
   "execution_count": null,
   "metadata": {},
   "outputs": [],
   "source": []
  },
  {
   "cell_type": "code",
   "execution_count": null,
   "metadata": {},
   "outputs": [],
   "source": []
  },
  {
   "cell_type": "code",
   "execution_count": null,
   "metadata": {
    "school_cell_uuid": "56a3e0fac9f94d4fb44a9d0f6f0ae7c7"
   },
   "outputs": [],
   "source": []
  },
  {
   "cell_type": "code",
   "execution_count": null,
   "metadata": {
    "school_cell_uuid": "56a3e0fac9f94d4fb44a9d0f6f0ae7c7"
   },
   "outputs": [],
   "source": []
  },
  {
   "cell_type": "code",
   "execution_count": null,
   "metadata": {},
   "outputs": [],
   "source": []
  },
  {
   "cell_type": "markdown",
   "metadata": {},
   "source": [
    "---"
   ]
  },
  {
   "cell_type": "markdown",
   "metadata": {
    "school_cell_uuid": "f44ba95137cf4ea0b58d44c918772ad9"
   },
   "source": [
    "데이터프레임의 열 인덱스가 문자열 라벨을 가지고 있는 경우에는 순서를 나타내는 정수 인덱스를 열 인덱싱에 사용할 수 없다. **정수 인덱싱**의 **슬라이스**는 뒤에서 설명하겠지만 **행(row)을 인덱싱할 때 사용**하므로 **열을 인덱싱할 때는 쓸 수 없다**. 정수 인덱스를 넣으면 `KeyError` 오류가 발생하는 것을 볼 수 있다."
   ]
  },
  {
   "cell_type": "code",
   "execution_count": null,
   "metadata": {
    "school_cell_uuid": "2976896675c342129de0cd11b6892ab3"
   },
   "outputs": [],
   "source": []
  },
  {
   "cell_type": "markdown",
   "metadata": {
    "school_cell_uuid": "1892bf3290f64bdc9ddb3dad2cf2ce09"
   },
   "source": [
    " 다만 원래부터 문자열이 아닌 정수형 열 인덱스를 가지는 경우에는 인덱스 값으로 정수를 사용할 수 있다."
   ]
  },
  {
   "cell_type": "code",
   "execution_count": null,
   "metadata": {
    "school_cell_uuid": "420c2a76640549cbaab9b31f17915d2f"
   },
   "outputs": [],
   "source": [
    "\n"
   ]
  },
  {
   "cell_type": "code",
   "execution_count": null,
   "metadata": {
    "school_cell_uuid": "d48c1f097ce548cc8e57bb36829397ab"
   },
   "outputs": [],
   "source": []
  },
  {
   "cell_type": "code",
   "execution_count": null,
   "metadata": {},
   "outputs": [],
   "source": []
  },
  {
   "cell_type": "code",
   "execution_count": null,
   "metadata": {
    "school_cell_uuid": "d48c1f097ce548cc8e57bb36829397ab"
   },
   "outputs": [],
   "source": []
  },
  {
   "cell_type": "markdown",
   "metadata": {},
   "source": [
    "---"
   ]
  },
  {
   "cell_type": "markdown",
   "metadata": {
    "school_cell_uuid": "5c121d8c1b444bf2bfde8690212a5f8e"
   },
   "source": [
    "### 행 인덱싱 (반드시 정수+슬라이싱만 가능)"
   ]
  },
  {
   "cell_type": "markdown",
   "metadata": {
    "school_cell_uuid": "beff7c796fb3438fb9a256538fb3d527"
   },
   "source": [
    "만약 **행 단위로 인덱싱**을 하고자 하면 **항상 슬라이싱(slicing) 을 해야 한다.** 인덱스의 값이 문자 라벨이면 **라벨 슬라이싱도 가능**하다."
   ]
  },
  {
   "cell_type": "code",
   "execution_count": null,
   "metadata": {},
   "outputs": [],
   "source": []
  },
  {
   "cell_type": "code",
   "execution_count": null,
   "metadata": {},
   "outputs": [],
   "source": [
    "## 열 인덱싱 (키값으로 인덱싱하면 \"열\")"
   ]
  },
  {
   "cell_type": "code",
   "execution_count": null,
   "metadata": {},
   "outputs": [],
   "source": [
    "## 행 인덱싱 (정수의 슬라이싱=> 행인덱싱 )"
   ]
  },
  {
   "cell_type": "code",
   "execution_count": null,
   "metadata": {
    "school_cell_uuid": "7ee64974f2364281954b9eae041c1c44"
   },
   "outputs": [],
   "source": [
    "# 행 인덱싱 (정수의 슬라이싱으로 인덱싱하면 \"행\")"
   ]
  },
  {
   "cell_type": "code",
   "execution_count": null,
   "metadata": {
    "school_cell_uuid": "c89de89ce9624abc941c3ee8587aabca"
   },
   "outputs": [],
   "source": []
  },
  {
   "cell_type": "code",
   "execution_count": null,
   "metadata": {
    "school_cell_uuid": "0ad013c544644b9b812b297229017f4f"
   },
   "outputs": [],
   "source": []
  },
  {
   "cell_type": "code",
   "execution_count": null,
   "metadata": {},
   "outputs": [],
   "source": [
    "## 문자열로 인덱싱하면 열 인덱싱이고... 이후에 \"서울\"로 인덱싱 가능\n",
    "## df[\"열(column)인덱스\"][\"행(row)인덱스\"] 로 개별 인덱싱 가능"
   ]
  },
  {
   "cell_type": "code",
   "execution_count": null,
   "metadata": {},
   "outputs": [],
   "source": [
    "### 행방향 이름으로 슬라이싱???\n",
    "### 전치행렬 활용 가능"
   ]
  },
  {
   "cell_type": "code",
   "execution_count": null,
   "metadata": {},
   "outputs": [],
   "source": []
  },
  {
   "cell_type": "code",
   "execution_count": null,
   "metadata": {},
   "outputs": [],
   "source": []
  },
  {
   "cell_type": "markdown",
   "metadata": {
    "school_cell_uuid": "af381d9b3eec4c949e934ae661bc5342"
   },
   "source": [
    "### 개별 데이터 인덱싱"
   ]
  },
  {
   "cell_type": "markdown",
   "metadata": {
    "school_cell_uuid": "f7f20193b17142ac802842cebc0c209e"
   },
   "source": [
    "데이터프레임에서 **열 라벨로 시리즈를 인덱싱**하면 **시리즈가 된다**. 이 시리즈를 다시 **행 라벨로 인덱싱**하면 **개별 데이터가** 나온다."
   ]
  },
  {
   "cell_type": "code",
   "execution_count": null,
   "metadata": {},
   "outputs": [],
   "source": []
  },
  {
   "cell_type": "code",
   "execution_count": null,
   "metadata": {
    "school_cell_uuid": "433817f68392487099e06349875af087"
   },
   "outputs": [],
   "source": [
    "##  df[열인덱스][행인덱스]\n",
    "## numpy에서는 array[행인덱스][열인덱스] *** 주의!!! 순서 반대!!!"
   ]
  },
  {
   "cell_type": "markdown",
   "metadata": {
    "school_cell_uuid": "0e0b8d7922494349a01ea5b093bf1152"
   },
   "source": [
    "지금까지의 **데이터프레임 인덱싱 방법**을 정리하면 다음과 같다."
   ]
  },
  {
   "cell_type": "markdown",
   "metadata": {
    "school_cell_uuid": "f7fe37436c8947ec9bbf12496a09c225"
   },
   "source": [
    "| 인덱싱 값 | 가능 | 결과 | 자료형 | 추가사항 |\n",
    "|-|-|-|-|-|\n",
    "| 라벨 | O | 열 | 시리즈 | |\n",
    "| 라벨 리스트 | O | 열 | 데이터프레임 | |\n",
    "| 인덱스데이터(정수) | X |  |  | 열 라벨이 정수인 경우에는 라벨 인덱싱으로 인정 |\n",
    "| 인덱스데이터(정수) 슬라이스 | O | 행 | 데이터프레임 | |\n"
   ]
  },
  {
   "cell_type": "markdown",
   "metadata": {
    "bootstrap": {
     "panel": {
      "class": "panel-default"
     }
    },
    "school_cell_uuid": "1adc8742e99c42419d8ad2f539ef362c"
   },
   "source": [
    "#### 연습 문제 3\n",
    "\n",
    "다음 데이터프레임에서 지정하는 데이터를 뽑아내거나 처리하라.\n",
    "\n",
    "```\n",
    "data = {\n",
    "    \"국어\": [80, 90, 70, 30],\n",
    "    \"영어\": [90, 70, 60, 40],\n",
    "    \"수학\": [90, 60, 80, 70],\n",
    "}\n",
    "columns = [\"국어\", \"영어\", \"수학\"]\n",
    "index = [\"윤기\", \"호석\", \"지민\", \"정국\"]\n",
    "df = pd.DataFrame(data, index=index, columns=columns)\n",
    "```"
   ]
  },
  {
   "cell_type": "markdown",
   "metadata": {
    "bootstrap": {
     "panel": {
      "class": "panel-default"
     }
    },
    "school_cell_uuid": "1adc8742e99c42419d8ad2f539ef362c"
   },
   "source": [
    "1. 모든 학생의 수학 점수를 시리즈로 나타낸다."
   ]
  },
  {
   "cell_type": "code",
   "execution_count": null,
   "metadata": {},
   "outputs": [],
   "source": [
    "# 기본 데이터\n",
    "data = {\n",
    "    \"국어\": [80, 90, 70, 30],\n",
    "    \"영어\": [90, 70, 60, 40],\n",
    "    \"수학\": [90, 60, 80, 70],\n",
    "}\n",
    "\n",
    "columns = [\"국어\", \"영어\", \"수학\"]\n",
    "index = [\"윤기\", \"호석\", \"지민\", \"정국\"]\n",
    "df = pd.DataFrame(data, index=index, columns=columns)"
   ]
  },
  {
   "cell_type": "code",
   "execution_count": null,
   "metadata": {},
   "outputs": [],
   "source": []
  },
  {
   "cell_type": "code",
   "execution_count": null,
   "metadata": {},
   "outputs": [],
   "source": [
    "#1. 모든 학생의 수학 점수를 시리즈로 나타낸다\n"
   ]
  },
  {
   "cell_type": "markdown",
   "metadata": {},
   "source": [
    "2. 모든 학생의 국어와 영어 점수를 데이터 프레임으로 나타낸다."
   ]
  },
  {
   "cell_type": "code",
   "execution_count": null,
   "metadata": {},
   "outputs": [],
   "source": [
    "#2. 모든 학생의 국어와 영어 점수를 데이터 프레임으로 나타낸다.\n"
   ]
  },
  {
   "cell_type": "code",
   "execution_count": null,
   "metadata": {},
   "outputs": [],
   "source": []
  },
  {
   "cell_type": "markdown",
   "metadata": {},
   "source": [
    "3. 모든 학생의 각 과목 평균 점수를 새로운 열로 추가한다."
   ]
  },
  {
   "cell_type": "code",
   "execution_count": null,
   "metadata": {},
   "outputs": [],
   "source": [
    "# 3. 모든 학생의 각 과목 평균 점수를 새로운 열로 추가한다.\n",
    "## axis = 1 : 행방향 평균 (새로운 열 생성)"
   ]
  },
  {
   "cell_type": "code",
   "execution_count": null,
   "metadata": {},
   "outputs": [],
   "source": []
  },
  {
   "cell_type": "markdown",
   "metadata": {},
   "source": [
    "4. 정국의 영어 점수를 80점으로 수정하고 평균 점수도 다시 계산한다."
   ]
  },
  {
   "cell_type": "code",
   "execution_count": null,
   "metadata": {},
   "outputs": [],
   "source": [
    "# 4. 정국의 영어 점수를 80점으로 수정하고 평균 점수도 다시 계산한다."
   ]
  },
  {
   "cell_type": "code",
   "execution_count": null,
   "metadata": {},
   "outputs": [],
   "source": []
  },
  {
   "cell_type": "code",
   "execution_count": null,
   "metadata": {},
   "outputs": [],
   "source": []
  },
  {
   "cell_type": "markdown",
   "metadata": {},
   "source": [
    "5. 윤기의 점수를 데이터프레임으로 나타낸다."
   ]
  },
  {
   "cell_type": "code",
   "execution_count": null,
   "metadata": {},
   "outputs": [],
   "source": [
    "# 5. 윤기의 점수를 데이터프레임으로 나타낸다.\n"
   ]
  },
  {
   "cell_type": "code",
   "execution_count": null,
   "metadata": {},
   "outputs": [],
   "source": []
  },
  {
   "cell_type": "markdown",
   "metadata": {},
   "source": [
    "6. 지민의 점수를 시리즈로 나타낸다."
   ]
  },
  {
   "cell_type": "code",
   "execution_count": null,
   "metadata": {},
   "outputs": [],
   "source": [
    "\n"
   ]
  },
  {
   "cell_type": "code",
   "execution_count": null,
   "metadata": {},
   "outputs": [],
   "source": []
  },
  {
   "cell_type": "code",
   "execution_count": null,
   "metadata": {},
   "outputs": [],
   "source": []
  },
  {
   "cell_type": "code",
   "execution_count": null,
   "metadata": {},
   "outputs": [],
   "source": []
  },
  {
   "cell_type": "code",
   "execution_count": null,
   "metadata": {},
   "outputs": [],
   "source": []
  }
 ],
 "metadata": {
  "kernelspec": {
   "display_name": "Python 3",
   "language": "python",
   "name": "python3"
  },
  "language_info": {
   "codemirror_mode": {
    "name": "ipython",
    "version": 3
   },
   "file_extension": ".py",
   "mimetype": "text/x-python",
   "name": "python",
   "nbconvert_exporter": "python",
   "pygments_lexer": "ipython3",
   "version": "3.8.8"
  },
  "latex_envs": {
   "LaTeX_envs_menu_present": true,
   "autoclose": false,
   "autocomplete": true,
   "bibliofile": "biblio.bib",
   "cite_by": "apalike",
   "current_citInitial": 1,
   "eqLabelWithNumbers": true,
   "eqNumInitial": 1,
   "hotkeys": {
    "equation": "Ctrl-E",
    "itemize": "Ctrl-I"
   },
   "labels_anchors": false,
   "latex_user_defs": false,
   "report_style_numbering": false,
   "user_envs_cfg": false
  },
  "toc": {
   "base_numbering": 1,
   "nav_menu": {},
   "number_sections": false,
   "sideBar": true,
   "skip_h1_title": false,
   "title_cell": "Table of Contents",
   "title_sidebar": "Contents",
   "toc_cell": false,
   "toc_position": {},
   "toc_section_display": true,
   "toc_window_display": false
  },
  "varInspector": {
   "cols": {
    "lenName": 16,
    "lenType": 16,
    "lenVar": 40
   },
   "kernels_config": {
    "python": {
     "delete_cmd_postfix": "",
     "delete_cmd_prefix": "del ",
     "library": "var_list.py",
     "varRefreshCmd": "print(var_dic_list())"
    },
    "r": {
     "delete_cmd_postfix": ") ",
     "delete_cmd_prefix": "rm(",
     "library": "var_list.r",
     "varRefreshCmd": "cat(var_dic_list()) "
    }
   },
   "types_to_exclude": [
    "module",
    "function",
    "builtin_function_or_method",
    "instance",
    "_Feature"
   ],
   "window_display": false
  }
 },
 "nbformat": 4,
 "nbformat_minor": 1
}
