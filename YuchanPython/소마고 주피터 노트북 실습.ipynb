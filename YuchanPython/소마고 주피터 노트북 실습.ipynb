{
 "cells": [
  {
   "cell_type": "code",
   "execution_count": 2,
   "id": "39f3b938",
   "metadata": {},
   "outputs": [
    {
     "name": "stdout",
     "output_type": "stream",
     "text": [
      "Hello Python\n"
     ]
    }
   ],
   "source": [
    "print(\"Hello Python\")"
   ]
  },
  {
   "cell_type": "code",
   "execution_count": 3,
   "id": "0dbd69bd",
   "metadata": {},
   "outputs": [],
   "source": [
    "a=10"
   ]
  },
  {
   "cell_type": "code",
   "execution_count": 4,
   "id": "3b6daacf",
   "metadata": {},
   "outputs": [
    {
     "data": {
      "text/plain": [
       "10"
      ]
     },
     "execution_count": 4,
     "metadata": {},
     "output_type": "execute_result"
    }
   ],
   "source": [
    "a"
   ]
  },
  {
   "cell_type": "code",
   "execution_count": 5,
   "id": "86ed8484",
   "metadata": {},
   "outputs": [
    {
     "name": "stdout",
     "output_type": "stream",
     "text": [
      "10\n"
     ]
    }
   ],
   "source": [
    "print(a)"
   ]
  },
  {
   "cell_type": "code",
   "execution_count": 6,
   "id": "97937ef7",
   "metadata": {},
   "outputs": [
    {
     "name": "stdout",
     "output_type": "stream",
     "text": [
      "20\n"
     ]
    }
   ],
   "source": [
    "a=20\n",
    "print(a)"
   ]
  },
  {
   "cell_type": "code",
   "execution_count": 7,
   "id": "1d470099",
   "metadata": {},
   "outputs": [
    {
     "name": "stdout",
     "output_type": "stream",
     "text": [
      "600\n"
     ]
    }
   ],
   "source": [
    "a=20\n",
    "b=30\n",
    "print(a*b)"
   ]
  },
  {
   "cell_type": "code",
   "execution_count": 2,
   "id": "53c3a62a",
   "metadata": {},
   "outputs": [
    {
     "name": "stdout",
     "output_type": "stream",
     "text": [
      "0~100까지의 숫자를 입력하세요.\n",
      "1 번째 도전!!\n",
      "당신의 선택은 ? 15\n",
      "정답보다 크네요\n",
      "2 번째 도전!!\n",
      "당신의 선택은 ? 80\n",
      "정답보다 작네요\n",
      "3 번째 도전!!\n",
      "당신의 선택은 ? 20\n",
      "정답보다 크네요\n",
      "4 번째 도전!!\n",
      "당신의 선택은 ? 80\n",
      "정답보다 작네요\n",
      "5 번째 도전!!\n",
      "당신의 선택은 ? 45\n",
      "정답보다 크네요\n",
      "6 번째 도전!!\n",
      "당신의 선택은 ? 70\n",
      "정답보다 작네요\n",
      "7 번째 도전!!\n",
      "당신의 선택은 ? 65\n",
      "정답보다 크네요\n",
      "8 번째 도전!!\n",
      "당신의 선택은 ? 68\n",
      "정답입니다.\n"
     ]
    }
   ],
   "source": [
    "import random\n",
    "\n",
    "print('0~100까지의 숫자를 입력하세요.')\n",
    "\n",
    "com = random.randint(0,100)\n",
    "\n",
    "count = 0\n",
    "while True:\n",
    "\n",
    "    count += 1\n",
    "    print(f\"{count} 번째 도전!!\")\n",
    "    user = int(input('당신의 선택은 ? '))\n",
    "\n",
    "    if user < com:\n",
    "        print('정답보다 크네요')\n",
    "    elif user > com:\n",
    "        print('정답보다 작네요')\n",
    "    else:\n",
    "        print('정답입니다.')\n",
    "        break"
   ]
  },
  {
   "cell_type": "markdown",
   "id": "166f8121",
   "metadata": {},
   "source": [
    "# 첫번째 큰 제목\n",
    "## 두번째 큰 제목\n",
    "### 세번째 큰 제목\n",
    "#### 네번째 큰 제목\n",
    "##### 다섯번째 큰 제목\n",
    "\n",
    "\n",
    "*강조*\n",
    "**강조**\n",
    "\n",
    "_강조_\n",
    "__강조__\n",
    "\n",
    "print('hello')와 같이 씁니다\n",
    "\n",
    "* 포인트 1\n",
    "* 포인트 2\n",
    "\n",
    ">들여쓰기\n"
   ]
  },
  {
   "cell_type": "code",
   "execution_count": null,
   "id": "6f182e5a",
   "metadata": {},
   "outputs": [],
   "source": []
  },
  {
   "cell_type": "code",
   "execution_count": null,
   "id": "b1e2ebdc",
   "metadata": {},
   "outputs": [],
   "source": []
  },
  {
   "cell_type": "code",
   "execution_count": null,
   "id": "1f83ee34",
   "metadata": {},
   "outputs": [],
   "source": []
  },
  {
   "cell_type": "code",
   "execution_count": null,
   "id": "69315313",
   "metadata": {},
   "outputs": [],
   "source": []
  }
 ],
 "metadata": {
  "kernelspec": {
   "display_name": "Python 3",
   "language": "python",
   "name": "python3"
  },
  "language_info": {
   "codemirror_mode": {
    "name": "ipython",
    "version": 3
   },
   "file_extension": ".py",
   "mimetype": "text/x-python",
   "name": "python",
   "nbconvert_exporter": "python",
   "pygments_lexer": "ipython3",
   "version": "3.8.8"
  }
 },
 "nbformat": 4,
 "nbformat_minor": 5
}
