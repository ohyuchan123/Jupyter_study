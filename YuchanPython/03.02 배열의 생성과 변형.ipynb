{
 "cells": [
  {
   "cell_type": "markdown",
   "metadata": {
    "school_cell_uuid": "4e7a40fb49b24c27ba1c62ef2f52ecc4",
    "slideshow": {
     "slide_type": "-"
    }
   },
   "source": [
    "# 03.02 배열의 생성과 변형"
   ]
  },
  {
   "cell_type": "markdown",
   "metadata": {
    "school_cell_uuid": "fe1695a18e6f49a5aede6e03f1457f41"
   },
   "source": [
    "## NumPy의 자료형"
   ]
  },
  {
   "cell_type": "markdown",
   "metadata": {
    "school_cell_uuid": "febc877ad92f4d9aa32063d5700b2bd7"
   },
   "source": [
    "NumPy의 배열 즉, `ndarray`클래스는 데이터가 **같은 자료형이어야** 한다. `array` 명령으로 배열을 만들 때 자료형을 명시적으로 적용하려면 `dtype` 인수를 사용한다. 만약 `dtype` 인수가 없으면 주어진 데이터를 저장할 수 있는 자료형을 스스로 유추한다. 만들어진 배열의 자료형을 알아내려면 `dtype` 속성을 본다."
   ]
  },
  {
   "cell_type": "code",
   "execution_count": 2,
   "metadata": {
    "school_cell_uuid": "9134e74d7b074bbf978d365e658c7c42"
   },
   "outputs": [
    {
     "data": {
      "text/plain": [
       "dtype('int32')"
      ]
     },
     "execution_count": 2,
     "metadata": {},
     "output_type": "execute_result"
    }
   ],
   "source": [
    "import numpy as np\n",
    "x=np.array([1,2,3])\n",
    "x.dtype"
   ]
  },
  {
   "cell_type": "code",
   "execution_count": 4,
   "metadata": {
    "school_cell_uuid": "30680991c7bb4857ac85c1b4693d207a"
   },
   "outputs": [
    {
     "data": {
      "text/plain": [
       "dtype('float64')"
      ]
     },
     "execution_count": 4,
     "metadata": {},
     "output_type": "execute_result"
    }
   ],
   "source": [
    "x=np.array([1.0,2.0,3.0])\n",
    "x.dtype"
   ]
  },
  {
   "cell_type": "code",
   "execution_count": 5,
   "metadata": {
    "school_cell_uuid": "39de98abd11c427495aaa1eb907e677d"
   },
   "outputs": [
    {
     "data": {
      "text/plain": [
       "dtype('float64')"
      ]
     },
     "execution_count": 5,
     "metadata": {},
     "output_type": "execute_result"
    }
   ],
   "source": [
    "x=np.array([1.0,2.0,3.0])\n",
    "x.dtype"
   ]
  },
  {
   "cell_type": "code",
   "execution_count": 6,
   "metadata": {},
   "outputs": [
    {
     "data": {
      "text/plain": [
       "dtype('float64')"
      ]
     },
     "execution_count": 6,
     "metadata": {},
     "output_type": "execute_result"
    }
   ],
   "source": [
    "x=np.array([1.0,2.0,3.0])\n",
    "x.dtype"
   ]
  },
  {
   "cell_type": "markdown",
   "metadata": {},
   "source": [
    "---------------"
   ]
  },
  {
   "cell_type": "markdown",
   "metadata": {
    "school_cell_uuid": "4be2f0907d3b4b50a10b3dd7be321c07"
   },
   "source": [
    " `dtype` 인수로 지정할 자료형은 다음 표에 보인것과 같은 \"dtype 접두사\"로 시작하는 문자열이고 이 글자 뒤에 오는 숫자는 바이트 수 혹은 글자 수를 의미한다. 예를 들어 `f8`은 8바이트(64비트) 부동소수점 실수를 뜻하고 `U4` 는 4글자 유니코드 문자열을 뜻한다. 숫자를 생략하면 운영체제에 따라 알맞은 크기를 지정한다."
   ]
  },
  {
   "cell_type": "markdown",
   "metadata": {
    "school_cell_uuid": "5b61d2f3a3a843c5ad1f7b2b9584c6fd"
   },
   "source": [
    "| dtype 접두사 | 설명 | 사용 예 |\n",
    "|-|-|-|\n",
    "| `b` | 불리언 | `b` (참 혹은 거짓) | \n",
    "| `i` | 정수 | `i8` (64비트) | \n",
    "| `u` | 부호 없는 정수 | `u8` (64비트) | \n",
    "| `f` | 부동소수점 | `f8` (64비트) | \n",
    "| `c` | 복소 부동소수점 | `c16` (128비트) | \n",
    "| `O` | 객체 | `0` (객체에 대한 포인터) | \n",
    "| `S` | 바이트 문자열 | `S24` (24 글자) | \n",
    "| `U` | 유니코드 문자열 | `U24` (24 유니코드 글자) | "
   ]
  },
  {
   "cell_type": "markdown",
   "metadata": {
    "school_cell_uuid": "ea26620e50494cf387cbc7b06011cece"
   },
   "source": [
    "표 4.1.1 : dtype 인수로 지정할 자료형"
   ]
  },
  {
   "cell_type": "code",
   "execution_count": 9,
   "metadata": {
    "school_cell_uuid": "ff8c50f45c624eccbdfe2b51116da467"
   },
   "outputs": [
    {
     "data": {
      "text/plain": [
       "array([1., 2., 3.], dtype=float32)"
      ]
     },
     "execution_count": 9,
     "metadata": {},
     "output_type": "execute_result"
    }
   ],
   "source": [
    "x=np.array([1,2,3],dtype='f')\n",
    "x"
   ]
  },
  {
   "cell_type": "code",
   "execution_count": 13,
   "metadata": {
    "school_cell_uuid": "6d26e85b2d694b44919f76a7ab9925aa"
   },
   "outputs": [
    {
     "data": {
      "text/plain": [
       "dtype('float32')"
      ]
     },
     "execution_count": 13,
     "metadata": {},
     "output_type": "execute_result"
    }
   ],
   "source": []
  },
  {
   "cell_type": "code",
   "execution_count": 14,
   "metadata": {
    "school_cell_uuid": "e1e98736aba64814ba4f164236752ff8"
   },
   "outputs": [
    {
     "data": {
      "text/plain": [
       "3.0"
      ]
     },
     "execution_count": 14,
     "metadata": {},
     "output_type": "execute_result"
    }
   ],
   "source": []
  },
  {
   "cell_type": "code",
   "execution_count": 15,
   "metadata": {},
   "outputs": [
    {
     "data": {
      "text/plain": [
       "dtype('<U1')"
      ]
     },
     "execution_count": 15,
     "metadata": {},
     "output_type": "execute_result"
    }
   ],
   "source": []
  },
  {
   "cell_type": "code",
   "execution_count": 16,
   "metadata": {
    "school_cell_uuid": "0dc7fe8448034c1187b8d53ffb8604bb"
   },
   "outputs": [
    {
     "data": {
      "text/plain": [
       "array(['1', '2', '3'], dtype='<U1')"
      ]
     },
     "execution_count": 16,
     "metadata": {},
     "output_type": "execute_result"
    }
   ],
   "source": []
  },
  {
   "cell_type": "code",
   "execution_count": 17,
   "metadata": {},
   "outputs": [
    {
     "data": {
      "text/plain": [
       "'12'"
      ]
     },
     "execution_count": 17,
     "metadata": {},
     "output_type": "execute_result"
    }
   ],
   "source": []
  },
  {
   "cell_type": "markdown",
   "metadata": {
    "school_cell_uuid": "59469678d34a455d88825371f2ba4b10"
   },
   "source": [
    "## Inf와 NaN"
   ]
  },
  {
   "cell_type": "markdown",
   "metadata": {
    "school_cell_uuid": "4be51b6fd04c41f09327e3d72c2153ee"
   },
   "source": [
    "NumPy에서는 무한대를 표현하기 위한 **`np.inf`(infinity)** 와 정의할 수 없는 숫자를 나타내는 **`np.nan`(not a number)** 을 사용할 수 있다. 다음 예와 같이 1을 0으로 나누려고 하거나 0에 대한 로그 값을 계산하면 무한대인 **`np.inf`** 이 나온다. 0을 0으로 나누려고 시도하면 **`np.nan`** 이 나온다."
   ]
  },
  {
   "cell_type": "code",
   "execution_count": 10,
   "metadata": {
    "school_cell_uuid": "b4ed693f975a4d7da05af4252d47f30d"
   },
   "outputs": [
    {
     "name": "stderr",
     "output_type": "stream",
     "text": [
      "<ipython-input-10-dc768ac6b521>:1: RuntimeWarning: divide by zero encountered in true_divide\n",
      "  np.array([0,1,-1,0])/np.array([1,0,0,0])\n",
      "<ipython-input-10-dc768ac6b521>:1: RuntimeWarning: invalid value encountered in true_divide\n",
      "  np.array([0,1,-1,0])/np.array([1,0,0,0])\n"
     ]
    },
    {
     "data": {
      "text/plain": [
       "array([  0.,  inf, -inf,  nan])"
      ]
     },
     "execution_count": 10,
     "metadata": {},
     "output_type": "execute_result"
    }
   ],
   "source": [
    "np.array([0,1,-1,0])/np.array([1,0,0,0])"
   ]
  },
  {
   "cell_type": "code",
   "execution_count": 11,
   "metadata": {},
   "outputs": [
    {
     "data": {
      "text/plain": [
       "-inf"
      ]
     },
     "execution_count": 11,
     "metadata": {},
     "output_type": "execute_result"
    }
   ],
   "source": [
    "np.inf*-1"
   ]
  },
  {
   "cell_type": "code",
   "execution_count": 13,
   "metadata": {
    "school_cell_uuid": "0ecf09051db4488f8bb7831bc0a46ee4"
   },
   "outputs": [
    {
     "name": "stderr",
     "output_type": "stream",
     "text": [
      "<ipython-input-13-141f48594c2f>:1: RuntimeWarning: divide by zero encountered in log\n",
      "  np.log(0) #밑수가 e인 로그\n"
     ]
    },
    {
     "data": {
      "text/plain": [
       "-inf"
      ]
     },
     "execution_count": 13,
     "metadata": {},
     "output_type": "execute_result"
    }
   ],
   "source": [
    "np.log(0) #밑수가 e인 로그"
   ]
  },
  {
   "cell_type": "markdown",
   "metadata": {},
   "source": [
    "![](https://img1.daumcdn.net/thumb/R720x0.q80/?scode=mtistory2&fname=http%3A%2F%2Fcfile30.uf.tistory.com%2Fimage%2F2652D93358E24E7E2E9000)"
   ]
  },
  {
   "cell_type": "code",
   "execution_count": 14,
   "metadata": {
    "school_cell_uuid": "3e564112200a45c097123f09688375a1"
   },
   "outputs": [
    {
     "data": {
      "text/plain": [
       "0.0"
      ]
     },
     "execution_count": 14,
     "metadata": {},
     "output_type": "execute_result"
    }
   ],
   "source": [
    "np.exp(-np.inf)"
   ]
  },
  {
   "cell_type": "markdown",
   "metadata": {},
   "source": [
    "\n",
    "![](https://img1.daumcdn.net/thumb/R720x0.q80/?scode=mtistory2&fname=http%3A%2F%2Fcfile2.uf.tistory.com%2Fimage%2F274F6F3358E24E7D0EEFE1)"
   ]
  },
  {
   "cell_type": "markdown",
   "metadata": {
    "school_cell_uuid": "1cdcb42b3e724cff877530732ddf7d46"
   },
   "source": [
    "## 배열 생성"
   ]
  },
  {
   "cell_type": "markdown",
   "metadata": {
    "school_cell_uuid": "42a8ae213d734409a35527275c0b4264"
   },
   "source": [
    "NumPy는 몇가지 간단한 배열을 생성하는 명령을 제공한다.\n",
    " \n",
    "* `zeros`, `ones`\n",
    "* `zeros_like`, `ones_like`\n",
    "* `empty`\n",
    "* `arange`\n",
    "* `linspace`, `logspace`\n",
    "* `rand`, `randn`"
   ]
  },
  {
   "cell_type": "markdown",
   "metadata": {
    "school_cell_uuid": "7c79b2111e3e438eb66470e15acc0c78"
   },
   "source": [
    "## Array 초기화\n",
    "\n",
    "### (1) 0으로 초기화\n",
    "크기가 정해져 있고 모든 값이 0인 배열을 생성하려면 **`zeros` 명령**을 사용한다. 인수로는 배열을 크기를 뜻하는 정수를 넣는다."
   ]
  },
  {
   "cell_type": "code",
   "execution_count": 15,
   "metadata": {
    "school_cell_uuid": "0450ddaee8694b2d8297b1b15035182b"
   },
   "outputs": [
    {
     "data": {
      "text/plain": [
       "array([0., 0., 0., 0., 0.])"
      ]
     },
     "execution_count": 15,
     "metadata": {},
     "output_type": "execute_result"
    }
   ],
   "source": [
    "a=np.zeros(5)\n",
    "a"
   ]
  },
  {
   "cell_type": "code",
   "execution_count": 16,
   "metadata": {},
   "outputs": [
    {
     "data": {
      "text/plain": [
       "array([[0., 0., 0.],\n",
       "       [0., 0., 0.]])"
      ]
     },
     "execution_count": 16,
     "metadata": {},
     "output_type": "execute_result"
    }
   ],
   "source": [
    "b=np.zeros((2,3))\n",
    "b"
   ]
  },
  {
   "cell_type": "markdown",
   "metadata": {
    "school_cell_uuid": "128099e12e224f7daa7967d737681571"
   },
   "source": [
    "크기를 뜻하는 튜플을 입력하면 **다차원 배열**도 만들 수 있다."
   ]
  },
  {
   "cell_type": "code",
   "execution_count": 18,
   "metadata": {
    "school_cell_uuid": "4f578f16747a471aafb9094e27f897d9"
   },
   "outputs": [
    {
     "data": {
      "text/plain": [
       "array([[0, 0],\n",
       "       [0, 0],\n",
       "       [0, 0],\n",
       "       [0, 0],\n",
       "       [0, 0]], dtype=int32)"
      ]
     },
     "execution_count": 18,
     "metadata": {},
     "output_type": "execute_result"
    }
   ],
   "source": []
  },
  {
   "cell_type": "markdown",
   "metadata": {
    "school_cell_uuid": "ff1a3dc84bd44470820a5c0b34e3b437"
   },
   "source": [
    "`array` 명령과 마찬가지로 **`dtype` 인수**를 명시하면 해당 자료형 원소를 가진 배열을 만든다."
   ]
  },
  {
   "cell_type": "code",
   "execution_count": 19,
   "metadata": {
    "school_cell_uuid": "0638b07330ae4cd48dc4b928b51c274e"
   },
   "outputs": [
    {
     "data": {
      "text/plain": [
       "array([[0, 0],\n",
       "       [0, 0],\n",
       "       [0, 0],\n",
       "       [0, 0],\n",
       "       [0, 0]], dtype=int32)"
      ]
     },
     "execution_count": 19,
     "metadata": {},
     "output_type": "execute_result"
    }
   ],
   "source": [
    "c=np.zeros((5,2),dtype='i')\n",
    "c"
   ]
  },
  {
   "cell_type": "markdown",
   "metadata": {
    "school_cell_uuid": "9c28797b1d2f4b228db15e34bcfa1593"
   },
   "source": [
    "문자열 배열도 가능하지면 모든 원소의 문자열 크기가 같아야 한다. 만약 더 큰 크기의 문자열을 할당하면 잘릴 수 있다."
   ]
  },
  {
   "cell_type": "code",
   "execution_count": 20,
   "metadata": {
    "school_cell_uuid": "3650282440d34d588621f1034c8a6c85"
   },
   "outputs": [
    {
     "data": {
      "text/plain": [
       "array(['', '', '', '', ''], dtype='<U4')"
      ]
     },
     "execution_count": 20,
     "metadata": {},
     "output_type": "execute_result"
    }
   ],
   "source": [
    "d=np.zeros(5,dtype=\"U4\")\n",
    "d"
   ]
  },
  {
   "cell_type": "code",
   "execution_count": 21,
   "metadata": {
    "school_cell_uuid": "4988c5b5d8cb4b249d89cf6f2bfd87de"
   },
   "outputs": [
    {
     "ename": "TypeError",
     "evalue": "zeros() missing required argument 'shape' (pos 1)",
     "output_type": "error",
     "traceback": [
      "\u001b[1;31m---------------------------------------------------------------------------\u001b[0m",
      "\u001b[1;31mTypeError\u001b[0m                                 Traceback (most recent call last)",
      "\u001b[1;32m<ipython-input-21-2dd0c951c01d>\u001b[0m in \u001b[0;36m<module>\u001b[1;34m\u001b[0m\n\u001b[1;32m----> 1\u001b[1;33m \u001b[0md\u001b[0m\u001b[1;33m=\u001b[0m\u001b[0mnp\u001b[0m\u001b[1;33m.\u001b[0m\u001b[0mzeros\u001b[0m\u001b[1;33m(\u001b[0m\u001b[1;33m)\u001b[0m\u001b[1;33m\u001b[0m\u001b[1;33m\u001b[0m\u001b[0m\n\u001b[0m",
      "\u001b[1;31mTypeError\u001b[0m: zeros() missing required argument 'shape' (pos 1)"
     ]
    }
   ],
   "source": []
  },
  {
   "cell_type": "markdown",
   "metadata": {
    "school_cell_uuid": "278bf302cf734be6a097281158512c1e"
   },
   "source": [
    "---\n",
    "0이 아닌 **1로 초기화**된 배열을 생성하려면 **`ones` 명령**을 사용한다."
   ]
  },
  {
   "cell_type": "code",
   "execution_count": 23,
   "metadata": {
    "school_cell_uuid": "3c4d0f3f2ff84ac39390ced7385db2d2"
   },
   "outputs": [
    {
     "ename": "TypeError",
     "evalue": "data type '' not understood",
     "output_type": "error",
     "traceback": [
      "\u001b[1;31m---------------------------------------------------------------------------\u001b[0m",
      "\u001b[1;31mTypeError\u001b[0m                                 Traceback (most recent call last)",
      "\u001b[1;32m<ipython-input-23-68b99adc38f6>\u001b[0m in \u001b[0;36m<module>\u001b[1;34m\u001b[0m\n\u001b[1;32m----> 1\u001b[1;33m \u001b[0me\u001b[0m\u001b[1;33m=\u001b[0m\u001b[0mnp\u001b[0m\u001b[1;33m.\u001b[0m\u001b[0mones\u001b[0m\u001b[1;33m(\u001b[0m\u001b[1;33m(\u001b[0m\u001b[1;36m2\u001b[0m\u001b[1;33m,\u001b[0m\u001b[1;36m3\u001b[0m\u001b[1;33m,\u001b[0m\u001b[1;36m4\u001b[0m\u001b[1;33m)\u001b[0m\u001b[1;33m,\u001b[0m\u001b[0mdtype\u001b[0m\u001b[1;33m=\u001b[0m\u001b[1;34m\"64\"\u001b[0m\u001b[1;33m)\u001b[0m\u001b[1;33m\u001b[0m\u001b[1;33m\u001b[0m\u001b[0m\n\u001b[0m",
      "\u001b[1;32m~\\anaconda3\\lib\\site-packages\\numpy\\core\\numeric.py\u001b[0m in \u001b[0;36mones\u001b[1;34m(shape, dtype, order)\u001b[0m\n\u001b[0;32m    190\u001b[0m \u001b[1;33m\u001b[0m\u001b[0m\n\u001b[0;32m    191\u001b[0m     \"\"\"\n\u001b[1;32m--> 192\u001b[1;33m     \u001b[0ma\u001b[0m \u001b[1;33m=\u001b[0m \u001b[0mempty\u001b[0m\u001b[1;33m(\u001b[0m\u001b[0mshape\u001b[0m\u001b[1;33m,\u001b[0m \u001b[0mdtype\u001b[0m\u001b[1;33m,\u001b[0m \u001b[0morder\u001b[0m\u001b[1;33m)\u001b[0m\u001b[1;33m\u001b[0m\u001b[1;33m\u001b[0m\u001b[0m\n\u001b[0m\u001b[0;32m    193\u001b[0m     \u001b[0mmultiarray\u001b[0m\u001b[1;33m.\u001b[0m\u001b[0mcopyto\u001b[0m\u001b[1;33m(\u001b[0m\u001b[0ma\u001b[0m\u001b[1;33m,\u001b[0m \u001b[1;36m1\u001b[0m\u001b[1;33m,\u001b[0m \u001b[0mcasting\u001b[0m\u001b[1;33m=\u001b[0m\u001b[1;34m'unsafe'\u001b[0m\u001b[1;33m)\u001b[0m\u001b[1;33m\u001b[0m\u001b[1;33m\u001b[0m\u001b[0m\n\u001b[0;32m    194\u001b[0m     \u001b[1;32mreturn\u001b[0m \u001b[0ma\u001b[0m\u001b[1;33m\u001b[0m\u001b[1;33m\u001b[0m\u001b[0m\n",
      "\u001b[1;31mTypeError\u001b[0m: data type '' not understood"
     ]
    }
   ],
   "source": [
    "e=np.ones((2,3,4),dtype=\"64\")"
   ]
  },
  {
   "cell_type": "markdown",
   "metadata": {
    "school_cell_uuid": "31a0e99a37ce4b04a48c1c6ab5d0722e"
   },
   "source": [
    "---\n",
    "만약 크기를 튜플로 명시하지 않고 다른 배열과 같은 크기의 배열을 생성하고 싶다면 **`ones_like`, `zeros_like` 명령**을 사용한다."
   ]
  },
  {
   "cell_type": "code",
   "execution_count": 43,
   "metadata": {
    "school_cell_uuid": "27dc216486b1400e81701bf57a5bc3ec"
   },
   "outputs": [
    {
     "data": {
      "text/plain": [
       "array([[1., 1.],\n",
       "       [1., 1.],\n",
       "       [1., 1.],\n",
       "       [1., 1.],\n",
       "       [1., 1.]], dtype=float32)"
      ]
     },
     "execution_count": 43,
     "metadata": {},
     "output_type": "execute_result"
    }
   ],
   "source": []
  },
  {
   "cell_type": "code",
   "execution_count": 44,
   "metadata": {},
   "outputs": [
    {
     "data": {
      "text/plain": [
       "array([[0., 0.],\n",
       "       [0., 0.],\n",
       "       [0., 0.],\n",
       "       [0., 0.],\n",
       "       [0., 0.]], dtype=float32)"
      ]
     },
     "execution_count": 44,
     "metadata": {},
     "output_type": "execute_result"
    }
   ],
   "source": []
  },
  {
   "cell_type": "markdown",
   "metadata": {
    "school_cell_uuid": "7c81a8dce91e4bcf9160223928d6f52f"
   },
   "source": [
    "---\n",
    "배열의 크기가 커지면 배열을 **초기화하는데도 시간**이 걸린다. 이 **시간을 단축**하려면 **배열을 생성만** 하고 특정한 값으로 초기화를 하지 않는 **`empty`** 명령을 사용할 수 있다. `empty` 명령으로 생성된 배열에는 기존에 메모리에 저장되어 있던 값이 있으므로 배열의 원소의 값을 미리 알 수 없다."
   ]
  },
  {
   "cell_type": "code",
   "execution_count": 46,
   "metadata": {
    "school_cell_uuid": "37614cdedd624fa28a0f54441845892a"
   },
   "outputs": [
    {
     "data": {
      "text/plain": [
       "array([[0., 0., 0.],\n",
       "       [0., 0., 0.],\n",
       "       [0., 0., 0.],\n",
       "       [0., 0., 0.]])"
      ]
     },
     "execution_count": 46,
     "metadata": {},
     "output_type": "execute_result"
    }
   ],
   "source": []
  },
  {
   "cell_type": "markdown",
   "metadata": {},
   "source": [
    "---\n",
    "## `arange`"
   ]
  },
  {
   "cell_type": "markdown",
   "metadata": {
    "school_cell_uuid": "269accf0732f43be8912260ceb0a6609"
   },
   "source": [
    "**`arange`** 명령은 NumPy 버전의 `range` 명령이라고 볼 수 있다. 특정한 규칙에 따라 증가하는 수열을 만든다. "
   ]
  },
  {
   "cell_type": "code",
   "execution_count": 47,
   "metadata": {
    "school_cell_uuid": "b732c7a3553247be989a6e35d79fb83a"
   },
   "outputs": [
    {
     "data": {
      "text/plain": [
       "array([0, 1, 2, 3, 4, 5, 6, 7, 8, 9])"
      ]
     },
     "execution_count": 47,
     "metadata": {},
     "output_type": "execute_result"
    }
   ],
   "source": []
  },
  {
   "cell_type": "code",
   "execution_count": 48,
   "metadata": {},
   "outputs": [
    {
     "data": {
      "text/plain": [
       "[0, 1, 2, 3, 4, 5, 6, 7, 8, 9]"
      ]
     },
     "execution_count": 48,
     "metadata": {},
     "output_type": "execute_result"
    }
   ],
   "source": []
  },
  {
   "cell_type": "code",
   "execution_count": 49,
   "metadata": {
    "school_cell_uuid": "d0cb5cefda834591987ce4dd5174644b"
   },
   "outputs": [
    {
     "data": {
      "text/plain": [
       "array([ 3,  5,  7,  9, 11, 13, 15, 17, 19])"
      ]
     },
     "execution_count": 49,
     "metadata": {},
     "output_type": "execute_result"
    }
   ],
   "source": []
  },
  {
   "cell_type": "markdown",
   "metadata": {},
   "source": [
    "---\n",
    "## `linspace`, `logspace`"
   ]
  },
  {
   "cell_type": "markdown",
   "metadata": {
    "school_cell_uuid": "4320ced2361c452286d820e0d3f8cbfc"
   },
   "source": [
    "`linspace` 명령이나 `logspace` 명령은 선형 구간 혹은 로그 구간을 지정한 구간의 수만큼 분할한다."
   ]
  },
  {
   "cell_type": "markdown",
   "metadata": {},
   "source": [
    "### 1. linspace\n",
    "\n",
    "**a와 b사이에 c개의 점을 생성**하기 위한 명령어입니다.\n",
    "\n",
    "만약에 c가 생략될 경우 → linspace(a, b) 50개의 일정한 등간격을 가진 행 벡터가 생성됩니다.\n",
    "\n",
    "* 사용 방법 : **`np.linspace(시작, 끝, 갯수, endpoint=True/False)`**"
   ]
  },
  {
   "cell_type": "code",
   "execution_count": 50,
   "metadata": {
    "school_cell_uuid": "7e36ecf98ff347eda7659c2d5455b690"
   },
   "outputs": [
    {
     "data": {
      "text/plain": [
       "array([  0.,  25.,  50.,  75., 100.])"
      ]
     },
     "execution_count": 50,
     "metadata": {},
     "output_type": "execute_result"
    }
   ],
   "source": []
  },
  {
   "cell_type": "code",
   "execution_count": 53,
   "metadata": {},
   "outputs": [
    {
     "data": {
      "text/plain": [
       "array([0., 1., 2., 3., 4., 5., 6., 7., 8., 9.])"
      ]
     },
     "execution_count": 53,
     "metadata": {},
     "output_type": "execute_result"
    }
   ],
   "source": []
  },
  {
   "cell_type": "code",
   "execution_count": 54,
   "metadata": {},
   "outputs": [
    {
     "data": {
      "text/plain": [
       "array([ 0.        ,  1.11111111,  2.22222222,  3.33333333,  4.44444444,\n",
       "        5.55555556,  6.66666667,  7.77777778,  8.88888889, 10.        ])"
      ]
     },
     "execution_count": 54,
     "metadata": {},
     "output_type": "execute_result"
    }
   ],
   "source": []
  },
  {
   "cell_type": "code",
   "execution_count": 55,
   "metadata": {},
   "outputs": [
    {
     "data": {
      "text/plain": [
       "array([ 0.        ,  1.11111111,  2.22222222,  3.33333333,  4.44444444,\n",
       "        5.55555556,  6.66666667,  7.77777778,  8.88888889, 10.        ])"
      ]
     },
     "execution_count": 55,
     "metadata": {},
     "output_type": "execute_result"
    }
   ],
   "source": []
  },
  {
   "cell_type": "code",
   "execution_count": 58,
   "metadata": {},
   "outputs": [
    {
     "data": {
      "text/plain": [
       "array([  2.,   4.,   6.,   8.,  10.,  12.,  14.,  16.,  18.,  20.,  22.,\n",
       "        24.,  26.,  28.,  30.,  32.,  34.,  36.,  38.,  40.,  42.,  44.,\n",
       "        46.,  48.,  50.,  52.,  54.,  56.,  58.,  60.,  62.,  64.,  66.,\n",
       "        68.,  70.,  72.,  74.,  76.,  78.,  80.,  82.,  84.,  86.,  88.,\n",
       "        90.,  92.,  94.,  96.,  98., 100.])"
      ]
     },
     "execution_count": 58,
     "metadata": {},
     "output_type": "execute_result"
    }
   ],
   "source": []
  },
  {
   "cell_type": "code",
   "execution_count": 59,
   "metadata": {
    "school_cell_uuid": "f0ffbaca793b41c5ab735dd645cceb9a"
   },
   "outputs": [
    {
     "data": {
      "text/plain": [
       "array([ 1.25892541,  1.58489319,  1.99526231,  2.51188643,  3.16227766,\n",
       "        3.98107171,  5.01187234,  6.30957344,  7.94328235, 10.        ])"
      ]
     },
     "execution_count": 59,
     "metadata": {},
     "output_type": "execute_result"
    }
   ],
   "source": [
    "############## logspace #################\n"
   ]
  },
  {
   "cell_type": "code",
   "execution_count": 62,
   "metadata": {},
   "outputs": [
    {
     "data": {
      "text/plain": [
       "(1.2589254117941673, 1.5848931924611136, 1.9952623149688795)"
      ]
     },
     "execution_count": 62,
     "metadata": {},
     "output_type": "execute_result"
    }
   ],
   "source": []
  },
  {
   "cell_type": "code",
   "execution_count": 63,
   "metadata": {},
   "outputs": [
    {
     "data": {
      "text/plain": [
       "array([ 0.1       ,  1.14736842,  2.19473684,  3.24210526,  4.28947368,\n",
       "        5.33684211,  6.38421053,  7.43157895,  8.47894737,  9.52631579,\n",
       "       10.57368421, 11.62105263, 12.66842105, 13.71578947, 14.76315789,\n",
       "       15.81052632, 16.85789474, 17.90526316, 18.95263158, 20.        ])"
      ]
     },
     "execution_count": 63,
     "metadata": {},
     "output_type": "execute_result"
    }
   ],
   "source": []
  },
  {
   "cell_type": "code",
   "execution_count": 64,
   "metadata": {},
   "outputs": [
    {
     "data": {
      "text/plain": [
       "array([1.25892541e+00, 1.40400425e+01, 1.56580200e+02, 1.74624535e+03,\n",
       "       1.94748304e+04, 2.17191140e+05, 2.42220294e+06, 2.70133812e+07,\n",
       "       3.01264090e+08, 3.35981829e+09, 3.74700446e+10, 4.17881006e+11,\n",
       "       4.66037703e+12, 5.19743987e+13, 5.79639395e+14, 6.46437163e+15,\n",
       "       7.20932720e+16, 8.04013161e+17, 8.96667810e+18, 1.00000000e+20])"
      ]
     },
     "execution_count": 64,
     "metadata": {},
     "output_type": "execute_result"
    }
   ],
   "source": []
  },
  {
   "cell_type": "code",
   "execution_count": 65,
   "metadata": {},
   "outputs": [
    {
     "data": {
      "text/plain": [
       "array([1.25892541e+00, 1.40400425e+01, 1.56580200e+02, 1.74624535e+03,\n",
       "       1.94748304e+04, 2.17191140e+05, 2.42220294e+06, 2.70133812e+07,\n",
       "       3.01264090e+08, 3.35981829e+09, 3.74700446e+10, 4.17881006e+11,\n",
       "       4.66037703e+12, 5.19743987e+13, 5.79639395e+14, 6.46437163e+15,\n",
       "       7.20932720e+16, 8.04013161e+17, 8.96667810e+18, 1.00000000e+20])"
      ]
     },
     "execution_count": 65,
     "metadata": {},
     "output_type": "execute_result"
    }
   ],
   "source": []
  },
  {
   "cell_type": "code",
   "execution_count": 67,
   "metadata": {},
   "outputs": [
    {
     "data": {
      "text/plain": [
       "[<matplotlib.lines.Line2D at 0x286254dd9c8>]"
      ]
     },
     "execution_count": 67,
     "metadata": {},
     "output_type": "execute_result"
    },
    {
     "data": {
      "image/png": "[encoded data removed]",
      "text/plain": [
       "<Figure size 432x288 with 1 Axes>"
      ]
     },
     "metadata": {
      "needs_background": "light"
     },
     "output_type": "display_data"
    }
   ],
   "source": []
  },
  {
   "cell_type": "code",
   "execution_count": null,
   "metadata": {},
   "outputs": [],
   "source": []
  },
  {
   "cell_type": "markdown",
   "metadata": {},
   "source": [
    "---------------"
   ]
  },
  {
   "cell_type": "markdown",
   "metadata": {
    "school_cell_uuid": "cb988d063cd840b68a59d818c9f9d05f"
   },
   "source": [
    "## 전치 연산"
   ]
  },
  {
   "cell_type": "markdown",
   "metadata": {
    "school_cell_uuid": "853b2b53a6bc44548ed80a81cde207e3"
   },
   "source": [
    "2차원 배열의 **전치(transpose) 연산**은 행과 열을 바꾸는 작업이다. 이는 배열의 **`T` 속성**으로 구할 수 있다. 메서드가 아닌 속성이라는 점에 유의 한다."
   ]
  },
  {
   "cell_type": "code",
   "execution_count": 68,
   "metadata": {
    "school_cell_uuid": "67ac6fc81b6c49a1854e86e7ed258cb0"
   },
   "outputs": [
    {
     "data": {
      "text/plain": [
       "array([[1, 2, 3],\n",
       "       [4, 5, 6]])"
      ]
     },
     "execution_count": 68,
     "metadata": {},
     "output_type": "execute_result"
    }
   ],
   "source": []
  },
  {
   "cell_type": "code",
   "execution_count": 69,
   "metadata": {
    "school_cell_uuid": "bbf3f0afd4054d158fe959a3df08e254"
   },
   "outputs": [
    {
     "data": {
      "text/plain": [
       "array([[1, 4],\n",
       "       [2, 5],\n",
       "       [3, 6]])"
      ]
     },
     "execution_count": 69,
     "metadata": {},
     "output_type": "execute_result"
    }
   ],
   "source": []
  },
  {
   "cell_type": "markdown",
   "metadata": {
    "school_cell_uuid": "e051247ba49240a79a260dc42ea0eec8"
   },
   "source": [
    "## 배열의 크기 변형"
   ]
  },
  {
   "cell_type": "markdown",
   "metadata": {
    "school_cell_uuid": "801fa3c18fae453084b3da2c5fb3f671"
   },
   "source": [
    "일단 만들어진 배열의 내부 데이터는 보존한 채로 형태만 바꾸려면 **`reshape` 명령**이나 메서드를 사용한다. 예를 들어 12개의 원소를 가진 1차원 행렬은 3x4 형태의 2차원 행렬로 만들 수 있다."
   ]
  },
  {
   "cell_type": "code",
   "execution_count": 70,
   "metadata": {
    "school_cell_uuid": "8b76f25bf4684e0b97520db76f09688e"
   },
   "outputs": [
    {
     "data": {
      "text/plain": [
       "array([ 0,  1,  2,  3,  4,  5,  6,  7,  8,  9, 10, 11])"
      ]
     },
     "execution_count": 70,
     "metadata": {},
     "output_type": "execute_result"
    }
   ],
   "source": []
  },
  {
   "cell_type": "code",
   "execution_count": 71,
   "metadata": {
    "school_cell_uuid": "0652bfe7847a4c1fa3bbcc77623598dc"
   },
   "outputs": [
    {
     "data": {
      "text/plain": [
       "array([[ 0,  1,  2,  3],\n",
       "       [ 4,  5,  6,  7],\n",
       "       [ 8,  9, 10, 11]])"
      ]
     },
     "execution_count": 71,
     "metadata": {},
     "output_type": "execute_result"
    }
   ],
   "source": []
  },
  {
   "cell_type": "markdown",
   "metadata": {
    "school_cell_uuid": "6e46b05e869747b1ae07074efebe4597"
   },
   "source": [
    "사용하는 원소의 갯수가 정해저 있기 때문에 `reshape` 명령의 형태 튜플의 원소 중 하나는 -1이라는 숫자로 대체할 수 있다. -1을 넣으면 해당 숫자는 다를 값에서 계산되어 사용된다."
   ]
  },
  {
   "cell_type": "code",
   "execution_count": 72,
   "metadata": {
    "school_cell_uuid": "f04885d56e174f638ef35803c0057597"
   },
   "outputs": [
    {
     "data": {
      "text/plain": [
       "array([[ 0,  1,  2,  3],\n",
       "       [ 4,  5,  6,  7],\n",
       "       [ 8,  9, 10, 11]])"
      ]
     },
     "execution_count": 72,
     "metadata": {},
     "output_type": "execute_result"
    }
   ],
   "source": []
  },
  {
   "cell_type": "code",
   "execution_count": 73,
   "metadata": {
    "school_cell_uuid": "81f66a4782c74011a5143a10cb21728b"
   },
   "outputs": [
    {
     "data": {
      "text/plain": [
       "array([[[ 0,  1,  2],\n",
       "        [ 3,  4,  5]],\n",
       "\n",
       "       [[ 6,  7,  8],\n",
       "        [ 9, 10, 11]]])"
      ]
     },
     "execution_count": 73,
     "metadata": {},
     "output_type": "execute_result"
    }
   ],
   "source": []
  },
  {
   "cell_type": "code",
   "execution_count": 74,
   "metadata": {
    "school_cell_uuid": "1aa82c72705f4adca24100997b321ec8"
   },
   "outputs": [
    {
     "data": {
      "text/plain": [
       "array([[[ 0,  1],\n",
       "        [ 2,  3],\n",
       "        [ 4,  5]],\n",
       "\n",
       "       [[ 6,  7],\n",
       "        [ 8,  9],\n",
       "        [10, 11]]])"
      ]
     },
     "execution_count": 74,
     "metadata": {},
     "output_type": "execute_result"
    }
   ],
   "source": []
  },
  {
   "cell_type": "markdown",
   "metadata": {
    "school_cell_uuid": "8c338a382a704ee8b4ecb1f14639b9a5"
   },
   "source": [
    "---\n",
    "다차원 배열을 무조건 **1차원으로 펼치기** 위해서는 `flatten` 나 `ravel` 메서드를 사용한다."
   ]
  },
  {
   "cell_type": "code",
   "execution_count": 75,
   "metadata": {
    "school_cell_uuid": "da52ccdff6824783a9151e544f3910c4"
   },
   "outputs": [
    {
     "data": {
      "text/plain": [
       "array([[ 0,  1,  2,  3],\n",
       "       [ 4,  5,  6,  7],\n",
       "       [ 8,  9, 10, 11]])"
      ]
     },
     "execution_count": 75,
     "metadata": {},
     "output_type": "execute_result"
    }
   ],
   "source": []
  },
  {
   "cell_type": "code",
   "execution_count": 78,
   "metadata": {
    "school_cell_uuid": "3b6fd32d09b24ce0a706cdd4f8bcbf97"
   },
   "outputs": [
    {
     "data": {
      "text/plain": [
       "array([ 0,  1,  2,  3,  4,  5,  6,  7,  8,  9, 10, 11])"
      ]
     },
     "execution_count": 78,
     "metadata": {},
     "output_type": "execute_result"
    }
   ],
   "source": []
  },
  {
   "cell_type": "code",
   "execution_count": 77,
   "metadata": {},
   "outputs": [
    {
     "data": {
      "text/plain": [
       "array([[ 0,  1,  2,  3],\n",
       "       [ 4,  5,  6,  7],\n",
       "       [ 8,  9, 10, 11]])"
      ]
     },
     "execution_count": 77,
     "metadata": {},
     "output_type": "execute_result"
    }
   ],
   "source": []
  },
  {
   "cell_type": "code",
   "execution_count": 79,
   "metadata": {},
   "outputs": [
    {
     "data": {
      "text/plain": [
       "array([ 0,  1,  2,  3,  4,  5,  6,  7,  8,  9, 10, 11])"
      ]
     },
     "execution_count": 79,
     "metadata": {},
     "output_type": "execute_result"
    }
   ],
   "source": []
  },
  {
   "cell_type": "code",
   "execution_count": 80,
   "metadata": {},
   "outputs": [
    {
     "data": {
      "text/plain": [
       "array([[ 0,  1,  2,  3],\n",
       "       [ 4,  5,  6,  7],\n",
       "       [ 8,  9, 10, 11]])"
      ]
     },
     "execution_count": 80,
     "metadata": {},
     "output_type": "execute_result"
    }
   ],
   "source": []
  },
  {
   "cell_type": "markdown",
   "metadata": {
    "school_cell_uuid": "7449061930ec4f969f45cfbb9f4d7827"
   },
   "source": [
    "###### ---\n",
    "배열 사용에서 주의할 점은 길이가 6인 1차원 배열과 **행, 열의 갯수가 (6,1)인 2차원 배열** 또는 **행, 열의 갯수가 (1, 6)인 2차원 배열**은 데이터가 같아도 엄연히 다른 객체라는 점이다."
   ]
  },
  {
   "cell_type": "code",
   "execution_count": null,
   "metadata": {
    "school_cell_uuid": "32555d00be434211a940618642f9e2eb"
   },
   "outputs": [],
   "source": []
  },
  {
   "cell_type": "code",
   "execution_count": null,
   "metadata": {
    "school_cell_uuid": "efe31ebd189642e2a303e12e7c1a73d3"
   },
   "outputs": [],
   "source": [
    "  # 행렬, ndim = 2"
   ]
  },
  {
   "cell_type": "code",
   "execution_count": null,
   "metadata": {},
   "outputs": [],
   "source": []
  },
  {
   "cell_type": "code",
   "execution_count": null,
   "metadata": {},
   "outputs": [],
   "source": []
  },
  {
   "cell_type": "code",
   "execution_count": null,
   "metadata": {},
   "outputs": [],
   "source": []
  },
  {
   "cell_type": "markdown",
   "metadata": {
    "school_cell_uuid": "daed5b308d1042898d77660217a6a9b8"
   },
   "source": [
    "이렇게 같은 배열에 대해 차원만 1차원 증가시키는 경우에는 `newaxis` 명령을 사용하기도 한다."
   ]
  },
  {
   "cell_type": "code",
   "execution_count": null,
   "metadata": {
    "school_cell_uuid": "e612956a1722400091c08ba9bcc7bc6a"
   },
   "outputs": [],
   "source": []
  },
  {
   "cell_type": "markdown",
   "metadata": {
    "school_cell_uuid": "4b3e0edbc5e7492796eac84d7a5e2257"
   },
   "source": [
    "## 배열 연결"
   ]
  },
  {
   "cell_type": "markdown",
   "metadata": {
    "school_cell_uuid": "2af818f0ef1e42ffad476c9c4695274a"
   },
   "source": [
    "행의 수나 열의 수가 같은 두 개 이상의 배열을 연결하여(concatenate) 더 큰 배열을 만들 때는 다음과 같은 명령을 사용한다.\n",
    "\n",
    "* `hstack`\n",
    "* `vstack`\n",
    "* `dstack`\n",
    "* `stack`\n",
    "* `r_`\n",
    "* `c_`\n",
    "* `tile`"
   ]
  },
  {
   "cell_type": "markdown",
   "metadata": {
    "school_cell_uuid": "bf7a339a3dbf4c1888da5f1c65d0a4df"
   },
   "source": [
    "**`hstack` 명령**은 행의 수가 같은 두 개 이상의 **배열을 옆으로 연결**하여 열의 수가 더 많은 배열을 만든다. 연결할 배열은 하나의 리스트에 담아야 한다."
   ]
  },
  {
   "cell_type": "code",
   "execution_count": null,
   "metadata": {
    "school_cell_uuid": "88a84a888e994a3bbf68e0430ac79860"
   },
   "outputs": [],
   "source": []
  },
  {
   "cell_type": "code",
   "execution_count": null,
   "metadata": {
    "school_cell_uuid": "d8d4aadda3634cefb9c9f93248d28dec"
   },
   "outputs": [],
   "source": []
  },
  {
   "cell_type": "code",
   "execution_count": null,
   "metadata": {
    "school_cell_uuid": "55da73c949884fcdbb8a7244be95ecc3"
   },
   "outputs": [],
   "source": []
  },
  {
   "cell_type": "code",
   "execution_count": null,
   "metadata": {},
   "outputs": [],
   "source": []
  },
  {
   "cell_type": "code",
   "execution_count": null,
   "metadata": {},
   "outputs": [],
   "source": []
  },
  {
   "cell_type": "markdown",
   "metadata": {
    "school_cell_uuid": "45b042132e8242ee83a82ea8b76ae52e"
   },
   "source": [
    "**`vstack` 명령**은 열의 수가 같은 두 개 이상의 배열을 **위아래로 연결**하여 행의 수가 더 많은 배열을 만든다. 연결할 배열은 마찬가지로 하나의 리스트에 담아야 한다."
   ]
  },
  {
   "cell_type": "code",
   "execution_count": null,
   "metadata": {
    "school_cell_uuid": "9a90c72a781a446eab015b05d0521cd5"
   },
   "outputs": [],
   "source": []
  },
  {
   "cell_type": "code",
   "execution_count": null,
   "metadata": {
    "school_cell_uuid": "087a1f7e8cd74acc95060ebd02261437"
   },
   "outputs": [],
   "source": []
  },
  {
   "cell_type": "code",
   "execution_count": null,
   "metadata": {
    "school_cell_uuid": "30bccce9ef044067b14d7bd6ee5179da"
   },
   "outputs": [],
   "source": []
  },
  {
   "cell_type": "code",
   "execution_count": null,
   "metadata": {},
   "outputs": [],
   "source": []
  },
  {
   "cell_type": "markdown",
   "metadata": {
    "school_cell_uuid": "a95f8e68c8954378a6bfa672e632fce0"
   },
   "source": [
    "---\n",
    "**`dstack` 명령**은 제3의 축 즉, **행이나 열이 아닌 깊이(depth) 방향으로 배열을 합친다. 가장 안쪽의 원소의 차원이 증가**한다. 즉 가장 내부의 숫자 원소가 배열이 된다. **shape 정보**로 보자면 가장 끝에 값이 2인 차원이 추가되는 것이다.이 예제의 경우에는 shape 변화가 2개의 (3 x 4) -> 1개의 (3 x 4 x **2**)가 된다."
   ]
  },
  {
   "cell_type": "code",
   "execution_count": null,
   "metadata": {},
   "outputs": [],
   "source": []
  },
  {
   "cell_type": "code",
   "execution_count": null,
   "metadata": {},
   "outputs": [],
   "source": []
  },
  {
   "cell_type": "code",
   "execution_count": null,
   "metadata": {},
   "outputs": [],
   "source": []
  },
  {
   "cell_type": "code",
   "execution_count": null,
   "metadata": {
    "school_cell_uuid": "27186ffea90b42c1b35559f4ffb8c262"
   },
   "outputs": [],
   "source": []
  },
  {
   "cell_type": "code",
   "execution_count": null,
   "metadata": {
    "school_cell_uuid": "ea73e674615a4adab9381f357c7c98f8"
   },
   "outputs": [],
   "source": []
  },
  {
   "cell_type": "code",
   "execution_count": null,
   "metadata": {
    "school_cell_uuid": "0978be1cd9d44954a83e9e132be02c42"
   },
   "outputs": [],
   "source": []
  },
  {
   "cell_type": "code",
   "execution_count": null,
   "metadata": {
    "school_cell_uuid": "f9238b1bdcb54f41b622a9a478f89fa0"
   },
   "outputs": [],
   "source": []
  },
  {
   "cell_type": "markdown",
   "metadata": {
    "school_cell_uuid": "6e5f1e0e45f94e95ad2e05ff4f172c69"
   },
   "source": [
    "---\n",
    "**`stack` 명령**은 **`dstack`** 의 기능을 확장한 것으로 **`dstack`** 처럼 마지막 차원으로 연결하는 것이 아니라 **사용자가 지정한 차원(축으로) 배열을 연결**한다. **`axis` 인수(디폴트 0)** 를 사용하여 연결후의 회전 방향을 정한다. 디폴트 인수값은 0이고 가장 앞쪽에 차원이 생성된다. 즉, 배열 두 개가 겹치게 되므로 연결하고자 하는 배열들의 크기가 모두 같아야 한다. \n",
    "\n",
    "다음 예에서는 **`axis`= 0** 이므로 가장 값에 값이 2인 차원이 추가된다. 즉, **shape 변화**는 2개의 (3 x 4) -> 1개의 (**2** x 3 x 4) 이다.."
   ]
  },
  {
   "cell_type": "code",
   "execution_count": null,
   "metadata": {
    "school_cell_uuid": "564cc3e527fb4afeafe8b9d091e5fd22"
   },
   "outputs": [],
   "source": []
  },
  {
   "cell_type": "code",
   "execution_count": null,
   "metadata": {
    "school_cell_uuid": "97b1f59e6c47453bbdfe416e01575868"
   },
   "outputs": [],
   "source": []
  },
  {
   "cell_type": "markdown",
   "metadata": {
    "school_cell_uuid": "a0c4da583b854d0b8b8d99803ab2aba2"
   },
   "source": [
    "`axis` 인수가 1이면 두번째 차원으로 새로운 차원이 삽입된다. 다음 예에서 즉, shape 변화는 2개의 (3 x 4) -> 1개의 (3 x **2** x 4) 이다"
   ]
  },
  {
   "cell_type": "code",
   "execution_count": null,
   "metadata": {
    "school_cell_uuid": "bd36c52ba54e4effa63767b54b403c37",
    "scrolled": true
   },
   "outputs": [],
   "source": []
  },
  {
   "cell_type": "code",
   "execution_count": null,
   "metadata": {
    "school_cell_uuid": "60dde750853a4cdd82f38b2bc4990215"
   },
   "outputs": [],
   "source": []
  },
  {
   "cell_type": "markdown",
   "metadata": {
    "school_cell_uuid": "1520a5eb265f496bbabdcce5011d18a2"
   },
   "source": [
    "**`r_` 메서드**는 **`hstack` 명령과 비슷**하게 **배열을 좌우로 연결**한다. 다만 메서드임에도 불구하고 **소괄호(parenthesis, `()`)를 사용하지 않고 인덱싱과 같이 대괄호(bracket, `[]`)를 사용**한다. 이런 특수 메서드를 **인덱서(indexer)**라고 한다."
   ]
  },
  {
   "cell_type": "code",
   "execution_count": null,
   "metadata": {
    "school_cell_uuid": "ab65c502a80f48b48c3274e552983943"
   },
   "outputs": [],
   "source": [
    "np.r_[np.array([1, 2, 3]), np.array([4, 5, 6])]"
   ]
  },
  {
   "cell_type": "markdown",
   "metadata": {
    "school_cell_uuid": "1520a5eb265f496bbabdcce5011d18a2"
   },
   "source": [
    "**`c_` 메서드**는 배열의 **차원을 증가시킨 후 좌우로 연결**한다. 만약 1차원 배열을 연결하면 2차원 배열이 된다."
   ]
  },
  {
   "cell_type": "code",
   "execution_count": null,
   "metadata": {
    "school_cell_uuid": "ab65c502a80f48b48c3274e552983943"
   },
   "outputs": [],
   "source": [
    "np.c_[np.array([1, 2, 3]), np.array([4, 5, 6])]"
   ]
  },
  {
   "cell_type": "markdown",
   "metadata": {
    "school_cell_uuid": "5e4bded6885249ba9c2aa05e7e6fa4df"
   },
   "source": [
    "**`tile` 명령**은 동일한 배열을 반복하여 연결한다."
   ]
  },
  {
   "cell_type": "code",
   "execution_count": null,
   "metadata": {
    "school_cell_uuid": "1d16457e5bee4d788fc845103e0aa963"
   },
   "outputs": [],
   "source": [
    "a = np.array([[0, 1, 2], [3, 4, 5]])\n",
    "print(a)\n",
    "np.tile(a, 2)"
   ]
  },
  {
   "cell_type": "code",
   "execution_count": null,
   "metadata": {
    "school_cell_uuid": "83f17209217c46fbb3973f6c0f910c74"
   },
   "outputs": [],
   "source": [
    "np.tile(a, (3, 2))"
   ]
  },
  {
   "cell_type": "markdown",
   "metadata": {
    "bootstrap": {
     "panel": {
      "class": "panel-default"
     }
    },
    "school_cell_uuid": "13b232d1b9fc4a818706fce49816d44c"
   },
   "source": [
    "#### 연습 문제 4.1.4\n",
    "\n",
    "지금까지 공부한 명령어를 사용하여 다음과 같은 배열을 만들어라.\n",
    "\n",
    "```\n",
    "array([[   0.,    0.,    0.,    1.,    1.],\n",
    "       [   0.,    0.,    0.,    1.,    1.],\n",
    "       [   0.,    0.,    0.,    1.,    1.],\n",
    "       [  10.,   20.,   30.,   40.,   50.],\n",
    "       [  60.,   70.,   80.,   90.,  100.],\n",
    "       [ 110.,  120.,  130.,  140.,  150.],\n",
    "       [   0.,    0.,    0.,    1.,    1.],\n",
    "       [   0.,    0.,    0.,    1.,    1.],\n",
    "       [   0.,    0.,    0.,    1.,    1.],\n",
    "       [  10.,   20.,   30.,   40.,   50.],\n",
    "       [  60.,   70.,   80.,   90.,  100.],\n",
    "       [ 110.,  120.,  130.,  140.,  150.]])\n",
    "```"
   ]
  },
  {
   "cell_type": "code",
   "execution_count": null,
   "metadata": {},
   "outputs": [],
   "source": []
  },
  {
   "cell_type": "markdown",
   "metadata": {
    "school_cell_uuid": "5465714ae41645b6a226efc93dd02611"
   },
   "source": [
    "---\n",
    "### 2차원 그리드 포인트 생성"
   ]
  },
  {
   "cell_type": "markdown",
   "metadata": {
    "school_cell_uuid": "75adf0b409f642cda6d64fdbf9e49ce1"
   },
   "source": [
    "변수가 2개인 2차원 함수의 그래프를 그리거나 표를 작성하려면 **2차원 영역에 대한 (x,y) 좌표값 쌍** 즉, **그리드 포인트(grid point)** 를 생성하여 각 좌표에 대한 함수 값을 계산해야 한다. 예를 들어 x, y 라는 두 변수를 가진 함수에서 x가 0부터 2까지, y가 0부터 4까지의 사각형 영역에서 변화하는 과정을 보고 싶다면 이 사각형 영역 안의 다음과 같은 그리드 포인트들에 대해 함수를 계산해야 한다. \n",
    "\n",
    "$$ (x,y) = (0,0), (0,1), (0,2), (0,3), (0,4), (1,0), \\cdots (2,4) $$\n",
    "\n",
    "이러한 그리드 포인트를 만드는 과정을 도와주는 것이 `meshgrid` 명령이다. `meshgrid` 명령은 사각형 영역을 구성하는 가로축의 점들과 세로축의 점을 나타내는 두 벡터를 인수로 받아서 이 사각형 영역을 이루는 조합을 출력한다. 결과는 그리드 포인트의 x 값만을 표시하는 행렬과 y 값만을 표시하는 행렬 두 개로 분리하여 출력한다."
   ]
  },
  {
   "cell_type": "code",
   "execution_count": null,
   "metadata": {
    "school_cell_uuid": "8d387a1bc14e41c5b9adf44f74afaba6"
   },
   "outputs": [],
   "source": []
  },
  {
   "cell_type": "code",
   "execution_count": null,
   "metadata": {
    "school_cell_uuid": "9d7b6a3b179e43d582c3702152493a93"
   },
   "outputs": [],
   "source": []
  },
  {
   "cell_type": "code",
   "execution_count": null,
   "metadata": {
    "school_cell_uuid": "ca8b7103ddfa4f45bfbb401dcf9ccfe3"
   },
   "outputs": [],
   "source": []
  },
  {
   "cell_type": "code",
   "execution_count": null,
   "metadata": {
    "school_cell_uuid": "55aea931e469439ba1cfb19bc0112883"
   },
   "outputs": [],
   "source": []
  },
  {
   "cell_type": "code",
   "execution_count": null,
   "metadata": {
    "school_cell_uuid": "8e47bd26749d472386486f92dcb16b3e"
   },
   "outputs": [],
   "source": []
  },
  {
   "cell_type": "code",
   "execution_count": null,
   "metadata": {},
   "outputs": [],
   "source": []
  },
  {
   "cell_type": "code",
   "execution_count": null,
   "metadata": {
    "school_cell_uuid": "f0ff0762ce1345569d860643683e14e4"
   },
   "outputs": [],
   "source": []
  },
  {
   "cell_type": "code",
   "execution_count": null,
   "metadata": {
    "school_cell_uuid": "a59d3ff1c7c54a2caea885417519b3a7"
   },
   "outputs": [],
   "source": []
  },
  {
   "cell_type": "code",
   "execution_count": null,
   "metadata": {
    "school_cell_uuid": "c34fc67d5b234a2981e7baa5d5fe45c0"
   },
   "outputs": [],
   "source": []
  }
 ],
 "metadata": {
  "celltoolbar": "Raw Cell Format",
  "kernelspec": {
   "display_name": "Python 3",
   "language": "python",
   "name": "python3"
  },
  "language_info": {
   "codemirror_mode": {
    "name": "ipython",
    "version": 3
   },
   "file_extension": ".py",
   "mimetype": "text/x-python",
   "name": "python",
   "nbconvert_exporter": "python",
   "pygments_lexer": "ipython3",
   "version": "3.8.8"
  },
  "toc": {
   "base_numbering": 1,
   "nav_menu": {},
   "number_sections": true,
   "sideBar": true,
   "skip_h1_title": false,
   "title_cell": "Table of Contents",
   "title_sidebar": "Contents",
   "toc_cell": false,
   "toc_position": {},
   "toc_section_display": true,
   "toc_window_display": false
  },
  "varInspector": {
   "cols": {
    "lenName": 16,
    "lenType": 16,
    "lenVar": 40
   },
   "kernels_config": {
    "python": {
     "delete_cmd_postfix": "",
     "delete_cmd_prefix": "del ",
     "library": "var_list.py",
     "varRefreshCmd": "print(var_dic_list())"
    },
    "r": {
     "delete_cmd_postfix": ") ",
     "delete_cmd_prefix": "rm(",
     "library": "var_list.r",
     "varRefreshCmd": "cat(var_dic_list()) "
    }
   },
   "types_to_exclude": [
    "module",
    "function",
    "builtin_function_or_method",
    "instance",
    "_Feature"
   ],
   "window_display": false
  }
 },
 "nbformat": 4,
 "nbformat_minor": 1
}
